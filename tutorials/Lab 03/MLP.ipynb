{
 "cells": [
  {
   "cell_type": "markdown",
   "metadata": {
    "colab_type": "text",
    "id": "mipSoOVlavkb"
   },
   "source": [
    "# Categorical data with multilayer perceptron (MLP)\n",
    "\n",
    "## Authors: \n",
    "\n",
    "Arsène Fansi Tchango <arsene.fansi.tchango@mila.quebec>\n",
    "\n",
    "Gaétan Marceau Caron <gaetan.marceau.caron@mila.quebec>\n",
    "\n",
    "source: https://github.com/mila-iqia/ivado-mila-dl-school-2019"
   ]
  },
  {
   "cell_type": "markdown",
   "metadata": {
    "colab_type": "text",
    "id": "sLHwvggEZERd"
   },
   "source": [
    "## Preface"
   ]
  },
  {
   "cell_type": "markdown",
   "metadata": {
    "colab_type": "text",
    "id": "JKNGtQkkohiM"
   },
   "source": [
    "This tutorial introduces the practical aspects of Deep Learning through the realization of a simple end-to-end project. We will use the deep learning library <a href=\"https://pytorch.org/\"> `PyTorch`</a>, which is well-known for its ease of use."
   ]
  },
  {
   "cell_type": "markdown",
   "metadata": {
    "colab_type": "text",
    "id": "NOD70vdvvtin"
   },
   "source": [
    "# Introduction"
   ]
  },
  {
   "cell_type": "markdown",
   "metadata": {
    "colab_type": "text",
    "id": "nq9FwFVnQihX"
   },
   "source": [
    "## Loading packages and using GPUs"
   ]
  },
  {
   "cell_type": "markdown",
   "metadata": {
    "colab_type": "text",
    "id": "reCpBfp1Qcrt"
   },
   "source": [
    "Before we start, we install the necessary packages for the tutorial by using pip. To do this, execute the following cell by selecting it and using `shift+Enter`. This step may take a few minutes."
   ]
  },
  {
   "cell_type": "code",
   "execution_count": null,
   "metadata": {
    "colab": {
     "base_uri": "https://localhost:8080/",
     "height": 225
    },
    "colab_type": "code",
    "id": "c5AlBPjnvzNh",
    "outputId": "48285c9a-dbd0-4585-e493-c089116ae91e"
   },
   "outputs": [],
   "source": [
    "!pip3 install 'torch==1.1.0' 'torchvision==0.3.0' 'Pillow==4.3.0' 'matplotlib==3.0.3'"
   ]
  },
  {
   "cell_type": "markdown",
   "metadata": {
    "colab_type": "text",
    "id": "djF9gjzLwsDB"
   },
   "source": [
    "Now, import all the modules we will use for this tutorial by running the next cell:"
   ]
  },
  {
   "cell_type": "code",
   "execution_count": 1,
   "metadata": {
    "colab": {
     "base_uri": "https://localhost:8080/",
     "height": 52
    },
    "colab_type": "code",
    "id": "w9LnNnxBw0wC",
    "outputId": "2423e91f-ab6a-4ad2-db83-948e14bf0f89"
   },
   "outputs": [
    {
     "name": "stdout",
     "output_type": "stream",
     "text": [
      "Torch version:  1.3.1\n",
      "GPU Available: False\n"
     ]
    }
   ],
   "source": [
    "import torch\n",
    "import pandas as pd\n",
    "import numpy as np\n",
    "import matplotlib.pyplot as plt\n",
    "%matplotlib inline\n",
    "\n",
    "seed = 1234\n",
    "np.random.seed(seed) # Set the random seed of numpy for the data split.\n",
    "\n",
    "use_gpu = torch.cuda.is_available()\n",
    "device = torch.device(\"cuda:0\" if use_gpu else \"cpu\")\n",
    "\n",
    "\n",
    "print(\"Torch version: \", torch.__version__)\n",
    "print(\"GPU Available: {}\".format(use_gpu))"
   ]
  },
  {
   "cell_type": "markdown",
   "metadata": {
    "colab_type": "text",
    "id": "ZKzgFV9Favkt"
   },
   "source": [
    "## PyTorch in a nutshell"
   ]
  },
  {
   "cell_type": "markdown",
   "metadata": {
    "colab_type": "text",
    "id": "Vrus_-F0avkt"
   },
   "source": [
    "*PyTorch* is a Python library that supports a vibrant ecosystem of tools and libraries for ML in vision, NLP, and more. It provides two high-level features:\n",
    "<ul>\n",
    "<li> operations on <a href=\"https://pytorch.org/tutorials/beginner/blitz/tensor_tutorial.html#sphx-glr-beginner-blitz-tensor-tutorial-py\">tensors</a> (such as NumPy) with GPU support,</li>\n",
    "<li> operations for creating and optimizing computational graphs with an automatic differentiation system called <a href=\"https://pytorch.org/tutorials/beginner/blitz/autograd_tutorial.html#sphx-glr-beginner-blitz-autograd-tutorial-py\">Autograd</a>.</li>\n",
    "</ul>\n",
    "\n",
    "<a href=\"https://pytorch.org/docs/stable/torch.html\">PyTorch docs</a> contain the API documentation and <a href=\"https://pytorch.org/tutorials/\">many tutorials</a>.\n",
    "Also, PyTorch offers several data processing utilities. One of these utilities is the class <a href=\"http://pytorch.org/docs/master/data.html#\"> `torch.utils.data.Dataset`</a> which offers an easy to use interface to handle a data set. For more information, please refer to the following urls: \n",
    "<ul>\n",
    "<li>PyTorch data sets: <a href=\"http://pytorch.org/docs/master/data.html\"> PyTorch - datasets</a>.</li>\n",
    "<li>A tutorial for loading data: <a href=\"http://pytorch.org/tutorials/beginner/data_loading_tutorial.html\"> PyTorch - data loading tutorial</a>.</li>\n",
    "</ul>\n",
    "\n",
    "<a href=\"http://pytorch.org/docs/master/cuda.html#module-torch.cuda\">`torch.cuda`</a> is a package that provides the same functions as CPU tensors but for  CUDA tensors, which are used for GPU computing. <a href=\"http://pytorch.org/docs/master/cuda.html#torch.cuda.is_available\">`torch.cuda.is_available()`</a> returns a boolean indicating if CUDA is currently available. Finally, we recommend using a `device` variable that identifies the device on which you want to perform computations. We can assign a tensor to a device with the method `.to(device)`. By default, the tensors are CPU tensors."
   ]
  },
  {
   "cell_type": "markdown",
   "metadata": {
    "colab_type": "text",
    "id": "Qm122vNmq92L"
   },
   "source": [
    "## Ingredients for a proof of concept (POC)"
   ]
  },
  {
   "cell_type": "markdown",
   "metadata": {
    "colab_type": "text",
    "id": "nqvhR0ebavmE"
   },
   "source": [
    "To realize a ML POC, you need:\n",
    "<ul>\n",
    "<li>a task description as well as data to support it,</li>\n",
    "<li>an evaluation metric to assess the performance of a model,</li>\n",
    "<li>a model description,</li>\n",
    "<li>a cost function to be optimized,</li>\n",
    "<li>an optimizer that adjusts the parameters of the model.</li>\n",
    "</ul>"
   ]
  },
  {
   "cell_type": "markdown",
   "metadata": {
    "colab_type": "text",
    "id": "Y8_pfpu2f6AO"
   },
   "source": [
    "# How to prepare the dataset?"
   ]
  },
  {
   "cell_type": "markdown",
   "metadata": {
    "colab_type": "text",
    "id": "B5piZxYUhSzq"
   },
   "source": [
    "Our task is to predict whether or not a passenger survived the sinking of the Titanic based on passenger data only."
   ]
  },
  {
   "cell_type": "markdown",
   "metadata": {
    "colab_type": "text",
    "id": "y4GuYNDFavlU"
   },
   "source": [
    "## Titanic dataset"
   ]
  },
  {
   "cell_type": "markdown",
   "metadata": {
    "colab_type": "text",
    "id": "NiOJx2ytavlU"
   },
   "source": [
    "We can download the Titanic dataset at the following address: https://github.com/afansi/winterschool18/blob/master/titanic3.csv?raw=true.<br/>\n",
    "This dataset provides information on the fate of 1309 passengers of the first and only journey of the liner \"RMS Titanic\", summarized by economic status (class), gender, age, family information, and survival. The Kaggle platform also uses this dataset as an introduction to classical machine learning. Here, we use it to introduce more advanced concepts related to PyTorch and Deep Learning.\n",
    "\n",
    "We use the library <a href=\"https://pandas.pydata.org/\">Pandas</a> to load the dataset into memory."
   ]
  },
  {
   "cell_type": "code",
   "execution_count": 2,
   "metadata": {
    "colab": {
     "base_uri": "https://localhost:8080/",
     "height": 271
    },
    "colab_type": "code",
    "id": "bX_RSiffavlW",
    "outputId": "65feb3e0-c4e7-4812-e918-3767946f865d"
   },
   "outputs": [
    {
     "data": {
      "text/html": [
       "<div>\n",
       "<style scoped>\n",
       "    .dataframe tbody tr th:only-of-type {\n",
       "        vertical-align: middle;\n",
       "    }\n",
       "\n",
       "    .dataframe tbody tr th {\n",
       "        vertical-align: top;\n",
       "    }\n",
       "\n",
       "    .dataframe thead th {\n",
       "        text-align: right;\n",
       "    }\n",
       "</style>\n",
       "<table border=\"1\" class=\"dataframe\">\n",
       "  <thead>\n",
       "    <tr style=\"text-align: right;\">\n",
       "      <th></th>\n",
       "      <th>pclass</th>\n",
       "      <th>survived</th>\n",
       "      <th>name</th>\n",
       "      <th>sex</th>\n",
       "      <th>age</th>\n",
       "      <th>sibsp</th>\n",
       "      <th>parch</th>\n",
       "      <th>ticket</th>\n",
       "      <th>fare</th>\n",
       "      <th>cabin</th>\n",
       "      <th>embarked</th>\n",
       "      <th>boat</th>\n",
       "      <th>body</th>\n",
       "      <th>home.dest</th>\n",
       "    </tr>\n",
       "  </thead>\n",
       "  <tbody>\n",
       "    <tr>\n",
       "      <td>0</td>\n",
       "      <td>1</td>\n",
       "      <td>1</td>\n",
       "      <td>Allen, Miss. Elisabeth Walton</td>\n",
       "      <td>female</td>\n",
       "      <td>29.0000</td>\n",
       "      <td>0</td>\n",
       "      <td>0</td>\n",
       "      <td>24160</td>\n",
       "      <td>211.3375</td>\n",
       "      <td>B5</td>\n",
       "      <td>S</td>\n",
       "      <td>2</td>\n",
       "      <td>NaN</td>\n",
       "      <td>St Louis, MO</td>\n",
       "    </tr>\n",
       "    <tr>\n",
       "      <td>1</td>\n",
       "      <td>1</td>\n",
       "      <td>1</td>\n",
       "      <td>Allison, Master. Hudson Trevor</td>\n",
       "      <td>male</td>\n",
       "      <td>0.9167</td>\n",
       "      <td>1</td>\n",
       "      <td>2</td>\n",
       "      <td>113781</td>\n",
       "      <td>151.5500</td>\n",
       "      <td>C22 C26</td>\n",
       "      <td>S</td>\n",
       "      <td>11</td>\n",
       "      <td>NaN</td>\n",
       "      <td>Montreal, PQ / Chesterville, ON</td>\n",
       "    </tr>\n",
       "    <tr>\n",
       "      <td>2</td>\n",
       "      <td>1</td>\n",
       "      <td>0</td>\n",
       "      <td>Allison, Miss. Helen Loraine</td>\n",
       "      <td>female</td>\n",
       "      <td>2.0000</td>\n",
       "      <td>1</td>\n",
       "      <td>2</td>\n",
       "      <td>113781</td>\n",
       "      <td>151.5500</td>\n",
       "      <td>C22 C26</td>\n",
       "      <td>S</td>\n",
       "      <td>NaN</td>\n",
       "      <td>NaN</td>\n",
       "      <td>Montreal, PQ / Chesterville, ON</td>\n",
       "    </tr>\n",
       "    <tr>\n",
       "      <td>3</td>\n",
       "      <td>1</td>\n",
       "      <td>0</td>\n",
       "      <td>Allison, Mr. Hudson Joshua Creighton</td>\n",
       "      <td>male</td>\n",
       "      <td>30.0000</td>\n",
       "      <td>1</td>\n",
       "      <td>2</td>\n",
       "      <td>113781</td>\n",
       "      <td>151.5500</td>\n",
       "      <td>C22 C26</td>\n",
       "      <td>S</td>\n",
       "      <td>NaN</td>\n",
       "      <td>135.0</td>\n",
       "      <td>Montreal, PQ / Chesterville, ON</td>\n",
       "    </tr>\n",
       "    <tr>\n",
       "      <td>4</td>\n",
       "      <td>1</td>\n",
       "      <td>0</td>\n",
       "      <td>Allison, Mrs. Hudson J C (Bessie Waldo Daniels)</td>\n",
       "      <td>female</td>\n",
       "      <td>25.0000</td>\n",
       "      <td>1</td>\n",
       "      <td>2</td>\n",
       "      <td>113781</td>\n",
       "      <td>151.5500</td>\n",
       "      <td>C22 C26</td>\n",
       "      <td>S</td>\n",
       "      <td>NaN</td>\n",
       "      <td>NaN</td>\n",
       "      <td>Montreal, PQ / Chesterville, ON</td>\n",
       "    </tr>\n",
       "  </tbody>\n",
       "</table>\n",
       "</div>"
      ],
      "text/plain": [
       "   pclass  survived                                             name     sex  \\\n",
       "0       1         1                    Allen, Miss. Elisabeth Walton  female   \n",
       "1       1         1                   Allison, Master. Hudson Trevor    male   \n",
       "2       1         0                     Allison, Miss. Helen Loraine  female   \n",
       "3       1         0             Allison, Mr. Hudson Joshua Creighton    male   \n",
       "4       1         0  Allison, Mrs. Hudson J C (Bessie Waldo Daniels)  female   \n",
       "\n",
       "       age  sibsp  parch  ticket      fare    cabin embarked boat   body  \\\n",
       "0  29.0000      0      0   24160  211.3375       B5        S    2    NaN   \n",
       "1   0.9167      1      2  113781  151.5500  C22 C26        S   11    NaN   \n",
       "2   2.0000      1      2  113781  151.5500  C22 C26        S  NaN    NaN   \n",
       "3  30.0000      1      2  113781  151.5500  C22 C26        S  NaN  135.0   \n",
       "4  25.0000      1      2  113781  151.5500  C22 C26        S  NaN    NaN   \n",
       "\n",
       "                         home.dest  \n",
       "0                     St Louis, MO  \n",
       "1  Montreal, PQ / Chesterville, ON  \n",
       "2  Montreal, PQ / Chesterville, ON  \n",
       "3  Montreal, PQ / Chesterville, ON  \n",
       "4  Montreal, PQ / Chesterville, ON  "
      ]
     },
     "execution_count": 2,
     "metadata": {},
     "output_type": "execute_result"
    }
   ],
   "source": [
    "titanic_df = pd.read_csv(\n",
    "    'https://github.com/afansi/winterschool18/blob/master/titanic3.csv?raw=true', \n",
    "    sep='\\t', \n",
    "    index_col=None, \n",
    "    na_values=['NA']\n",
    ")\n",
    "\n",
    "# a snapshot of the first 5 data points\n",
    "titanic_df.head()\n",
    "\n"
   ]
  },
  {
   "cell_type": "markdown",
   "metadata": {
    "colab_type": "text",
    "id": "yj88WmCmavlf"
   },
   "source": [
    "**The meaning of the different columns (features) is as follows**:\n",
    "\n",
    "<ol>\n",
    "\n",
    "  <li> <b>pclass</b>: Passenger class (1 = first; 2 = second; 3 = third) </li>\n",
    "  <li> <b>survived</b>: Survived? (0 = no; 1 = yes) </li>\n",
    "  <li> <b>name</b>: Name </li>\n",
    "  <li> <b>sex</b>: Sex </li>\n",
    "  <li> <b>age</b>: Age </li>\n",
    "  <li> <b>sibsp</b>: Number of brothers, sisters, or spouses onboard </li>\n",
    "  <li> <b>parch</b>: Number of parents or children onboard </li>\n",
    "  <li> <b>ticket</b>: Ticket number </li>\n",
    "  <li> <b>fare</b>: Passenger fare </li>\n",
    "  <li> <b>cabin</b>: Cabin number </li>\n",
    "  <li> <b>embarked</b>: Port of embarkation (C = Cherbourg; Q = Queenstown; S = Southampton) </li>\n",
    "  <li> <b>boat</b>: Lifeboat (if the passenger survived) </li>\n",
    "  <li> <b>body</b>: Body number (if the passenger did not survive and his body was found) </li>\n",
    "  <li> <b>home.dest</b>: the passenger's destination </li>\n",
    " </ol>\n"
   ]
  },
  {
   "cell_type": "markdown",
   "metadata": {
    "colab_type": "text",
    "id": "u2ed5fozqjce"
   },
   "source": [
    "## Data pre-processing"
   ]
  },
  {
   "cell_type": "markdown",
   "metadata": {
    "colab_type": "text",
    "id": "__vcZhPnavlg"
   },
   "source": [
    "### Feature selection\n",
    "Some features are not relevant to the task, for example:\n",
    "<ol>\n",
    "  <li> <b>name</b>: Name </li>\n",
    "  <li> <b>ticket</b>: Ticket number </li>\n",
    "  <li> <b>cabin</b>: Cabin number </li>\n",
    "  <li> <b>home.dest</b>: Passenger's destination </li>\n",
    " </ol>\n",
    " \n",
    "Other features give away the label to be predicted and including them would be cheating:\n",
    "<ol>\n",
    "  <li> <b>boat</b>: Lifeboat (if the passenger survived) </li>\n",
    "  <li> <b>body</b>: Body number (if the passenger did not survive and his body was found) </li>\n",
    " </ol>"
   ]
  },
  {
   "cell_type": "code",
   "execution_count": 3,
   "metadata": {
    "colab": {
     "base_uri": "https://localhost:8080/",
     "height": 202
    },
    "colab_type": "code",
    "id": "JJ0--SDpavlg",
    "outputId": "bb15e866-2779-4e6f-9deb-4eedf70248ad"
   },
   "outputs": [
    {
     "data": {
      "text/html": [
       "<div>\n",
       "<style scoped>\n",
       "    .dataframe tbody tr th:only-of-type {\n",
       "        vertical-align: middle;\n",
       "    }\n",
       "\n",
       "    .dataframe tbody tr th {\n",
       "        vertical-align: top;\n",
       "    }\n",
       "\n",
       "    .dataframe thead th {\n",
       "        text-align: right;\n",
       "    }\n",
       "</style>\n",
       "<table border=\"1\" class=\"dataframe\">\n",
       "  <thead>\n",
       "    <tr style=\"text-align: right;\">\n",
       "      <th></th>\n",
       "      <th>survived</th>\n",
       "      <th>pclass_1</th>\n",
       "      <th>pclass_2</th>\n",
       "      <th>pclass_3</th>\n",
       "      <th>sex_female</th>\n",
       "      <th>sex_male</th>\n",
       "      <th>age</th>\n",
       "      <th>sibsp</th>\n",
       "      <th>parch</th>\n",
       "      <th>fare</th>\n",
       "      <th>embarked_C</th>\n",
       "      <th>embarked_Q</th>\n",
       "      <th>embarked_S</th>\n",
       "    </tr>\n",
       "  </thead>\n",
       "  <tbody>\n",
       "    <tr>\n",
       "      <td>0</td>\n",
       "      <td>1</td>\n",
       "      <td>1</td>\n",
       "      <td>0</td>\n",
       "      <td>0</td>\n",
       "      <td>1</td>\n",
       "      <td>0</td>\n",
       "      <td>29.0000</td>\n",
       "      <td>0</td>\n",
       "      <td>0</td>\n",
       "      <td>211.3375</td>\n",
       "      <td>0</td>\n",
       "      <td>0</td>\n",
       "      <td>1</td>\n",
       "    </tr>\n",
       "    <tr>\n",
       "      <td>1</td>\n",
       "      <td>1</td>\n",
       "      <td>1</td>\n",
       "      <td>0</td>\n",
       "      <td>0</td>\n",
       "      <td>0</td>\n",
       "      <td>1</td>\n",
       "      <td>0.9167</td>\n",
       "      <td>1</td>\n",
       "      <td>2</td>\n",
       "      <td>151.5500</td>\n",
       "      <td>0</td>\n",
       "      <td>0</td>\n",
       "      <td>1</td>\n",
       "    </tr>\n",
       "    <tr>\n",
       "      <td>2</td>\n",
       "      <td>0</td>\n",
       "      <td>1</td>\n",
       "      <td>0</td>\n",
       "      <td>0</td>\n",
       "      <td>1</td>\n",
       "      <td>0</td>\n",
       "      <td>2.0000</td>\n",
       "      <td>1</td>\n",
       "      <td>2</td>\n",
       "      <td>151.5500</td>\n",
       "      <td>0</td>\n",
       "      <td>0</td>\n",
       "      <td>1</td>\n",
       "    </tr>\n",
       "    <tr>\n",
       "      <td>3</td>\n",
       "      <td>0</td>\n",
       "      <td>1</td>\n",
       "      <td>0</td>\n",
       "      <td>0</td>\n",
       "      <td>0</td>\n",
       "      <td>1</td>\n",
       "      <td>30.0000</td>\n",
       "      <td>1</td>\n",
       "      <td>2</td>\n",
       "      <td>151.5500</td>\n",
       "      <td>0</td>\n",
       "      <td>0</td>\n",
       "      <td>1</td>\n",
       "    </tr>\n",
       "    <tr>\n",
       "      <td>4</td>\n",
       "      <td>0</td>\n",
       "      <td>1</td>\n",
       "      <td>0</td>\n",
       "      <td>0</td>\n",
       "      <td>1</td>\n",
       "      <td>0</td>\n",
       "      <td>25.0000</td>\n",
       "      <td>1</td>\n",
       "      <td>2</td>\n",
       "      <td>151.5500</td>\n",
       "      <td>0</td>\n",
       "      <td>0</td>\n",
       "      <td>1</td>\n",
       "    </tr>\n",
       "  </tbody>\n",
       "</table>\n",
       "</div>"
      ],
      "text/plain": [
       "   survived  pclass_1  pclass_2  pclass_3  sex_female  sex_male      age  \\\n",
       "0         1         1         0         0           1         0  29.0000   \n",
       "1         1         1         0         0           0         1   0.9167   \n",
       "2         0         1         0         0           1         0   2.0000   \n",
       "3         0         1         0         0           0         1  30.0000   \n",
       "4         0         1         0         0           1         0  25.0000   \n",
       "\n",
       "   sibsp  parch      fare  embarked_C  embarked_Q  embarked_S  \n",
       "0      0      0  211.3375           0           0           1  \n",
       "1      1      2  151.5500           0           0           1  \n",
       "2      1      2  151.5500           0           0           1  \n",
       "3      1      2  151.5500           0           0           1  \n",
       "4      1      2  151.5500           0           0           1  "
      ]
     },
     "execution_count": 3,
     "metadata": {},
     "output_type": "execute_result"
    }
   ],
   "source": [
    "titanic_preprocess_df = pd.read_csv(\n",
    "    'https://github.com/afansi/winterschool18/blob/master/titanic_prepocess.csv?raw=true', \n",
    "    sep=',', \n",
    "    index_col=None\n",
    ")\n",
    "\n",
    "titanic_preprocess_df.head()"
   ]
  },
  {
   "cell_type": "markdown",
   "metadata": {
    "colab_type": "text",
    "id": "4MckYm0M_xhR"
   },
   "source": [
    " ### Feature encoding\n",
    " \n",
    "Some features are **categorical variables**, which means that they can take a finite number of values.\n",
    " <ol>\n",
    "  <li> <b>pclass</b>: Passenger Class </li>\n",
    "  <li> <b>sex</b>: Sex </li>\n",
    "  <li> <b>embarked</b>: Port of embarkation </li>\n",
    " </ol>\n",
    "\n",
    "To process categorical variables, we need to encode them in a way that does not imply an arbitrary order such as using natural numbers (e.g., 1, 2, 3). <a href=\"http://scikit-learn.org/stable/modules/generated/sklearn.preprocessing.OneHotEncoder.html\">One-hot encoding</a> is a way to achieve it. We can download the pre-processed dataset at the following address: https://github.com/afansi/winterschool18/blob/master/titanic_prepocess.csv?raw=true.\n",
    "<br>The meaning of the encoded variables is as follows:\n",
    "\n",
    "<ol>\n",
    "  <li> <b>survived</b>: Survived? (0 = no; 1 = yes) </li>\n",
    "  <li> <b>pclass_1</b>: (1 if passenger in first class; 0 if not) </li>\n",
    "  <li> <b>pclass_2</b>: (1 if passenger in second class; 0 if not) </li>\n",
    "  <li> <b>pclass_3</b>: (1 if passenger in third class; 0 if not) </li>\n",
    "  <li> <b>sex_female</b>: (1 if passenger is female; 0 if not) </li>\n",
    "  <li> <b>sex_male</b>: (1 if passenger is male; 0 if not) </li>\n",
    "  <li> <b>age</b>: Age </li>\n",
    "  <li> <b>sibsp</b>: Number of brothers, sisters, or spouses onboard </li>\n",
    "  <li> <b>parch</b>: Number of parents or children onboard </li>\n",
    "  <li> <b>fare</b>: Passenger fare </li>\n",
    "  <li> <b>embarked_C</b>: (1 if Port of embarkation = Cherbourg (C); 0 otherwise) </li> \n",
    "  <li> <b>embarked_Q</b>: (1 if Port of embarkation = Queenstown (Q); 0 otherwise) </li> \n",
    "  <li> <b>embarked_S</b>: (1 if Port of embarkation = Southampton (S); 0 otherwise)</li> \n",
    " </ol>"
   ]
  },
  {
   "cell_type": "markdown",
   "metadata": {
    "colab_type": "text",
    "id": "QJcs6PUTavlm"
   },
   "source": [
    "## Train / validation / test split"
   ]
  },
  {
   "cell_type": "markdown",
   "metadata": {
    "colab_type": "text",
    "id": "Bjbgvffmavlo"
   },
   "source": [
    "At this point, we need to divide the dataset into three subsets:\n",
    "\n",
    "<ol>\n",
    "<li> <b> Train</b> (usually 60% of the dataset): used to train the classification model. </li>   \n",
    "<li> <b> Validation</b> (generally 20% of the dataset): used to evaluate hyper-parameters on held-out data. </li>   \n",
    "<li> <b> Test</b> (usually 20% of the dataset): used to evaluate the generalization performance of the chosen model on held-out data. </li>\n",
    "</ol>\n",
    "\n",
    "We use the <a href=\"https://docs.scipy.org/doc/numpy-1.15.1/reference/generated/numpy.split.html\">numpy.split function</a> to separate our dataset into subsets."
   ]
  },
  {
   "cell_type": "code",
   "execution_count": 4,
   "metadata": {
    "colab": {},
    "colab_type": "code",
    "id": "GBmL8VBOavlo"
   },
   "outputs": [],
   "source": [
    "train, validate, test = np.split(\n",
    "    titanic_preprocess_df.sample(frac=1, random_state=seed), \n",
    "    [int(.6*len(titanic_preprocess_df)), int(.8*len(titanic_preprocess_df))])   # take the 2 indices of the split to have 3 splits.\n",
    "\n",
    "# Remove the label column from X and create a label vectors.\n",
    "X_train = train.drop(['survived'], axis=1).values\n",
    "y_train = train['survived'].values\n",
    "\n",
    "X_val = validate.drop(['survived'], axis=1).values\n",
    "y_val = validate['survived'].values\n",
    "\n",
    "X_test = test.drop(['survived'], axis=1).values\n",
    "y_test = test['survived'].values"
   ]
  },
  {
   "cell_type": "code",
   "execution_count": null,
   "metadata": {},
   "outputs": [],
   "source": []
  },
  {
   "cell_type": "markdown",
   "metadata": {
    "colab_type": "text",
    "id": "wv74TbIWavlr"
   },
   "source": [
    "## Datasets in PyTorch"
   ]
  },
  {
   "cell_type": "markdown",
   "metadata": {
    "colab_type": "text",
    "id": "9_LJtG-Xavlt"
   },
   "source": [
    "We will use the subclass <b><a href=\"http://pytorch.org/docs/master/data.html#\"> `torch.utils.data.TensorDataset`</a> </b> to manipulate together the features and targets of a dataset."
   ]
  },
  {
   "cell_type": "code",
   "execution_count": 5,
   "metadata": {
    "colab": {},
    "colab_type": "code",
    "id": "1JtT4tV7avlt"
   },
   "outputs": [],
   "source": [
    "from torch.utils.data import TensorDataset\n",
    "\n",
    "train_dataset = TensorDataset(torch.from_numpy(X_train).float(), torch.from_numpy(y_train).long())\n",
    "\n",
    "val_dataset = TensorDataset(torch.from_numpy(X_val).float(), torch.from_numpy(y_val).long())\n",
    "\n",
    "test_dataset = TensorDataset(torch.from_numpy(X_test).float(), torch.from_numpy(y_test).long())"
   ]
  },
  {
   "cell_type": "markdown",
   "metadata": {
    "colab_type": "text",
    "id": "obEPHnlTavkc"
   },
   "source": [
    "# How to define the learning algorithm?"
   ]
  },
  {
   "cell_type": "markdown",
   "metadata": {
    "colab_type": "text",
    "id": "qhN5GL6Gavks"
   },
   "source": [
    "A multilayer perceptron (MLP) is a simple computational graph composed of \"hidden layers,\" which are defined by two modules: a *linear transformation* followed by a *non-linearity*. The result of a hidden layer is a vector called *a distributed representation* where each component is associated with a hidden unit.\n",
    "\n",
    "To train this model, we need to define:\n",
    "<ul>\n",
    "<li>the network architecture by choosing the non-linear function and the number of hidden units per layer, </li>\n",
    "<li>the cost function and optimizer. </li>\n",
    "</ul>\n",
    "\n",
    "To solve our task, we will use a MLP with the following properties:\n",
    " <ul>\n",
    " <li> the input dimension of the model is 12,</li>\n",
    " <li> the output dimension of the model is 2,</li>\n",
    " <li> the first dimension of the output is the probability of death and the second dimension is the probability of survival,</li>\n",
    "  <li> the number of hidden layers is 3, </li>\n",
    " <li> the dimensions of the hidden layers are 20, 40, 20 respectively, </li>\n",
    " <li> the activation function is a ReLu for all hidden layers. </li>\n",
    " </ul>"
   ]
  },
  {
   "cell_type": "markdown",
   "metadata": {
    "colab_type": "text",
    "id": "701t0e-ravkr"
   },
   "source": [
    "## How to define a model in PyTorch?"
   ]
  },
  {
   "cell_type": "markdown",
   "metadata": {
    "colab_type": "text",
    "id": "m4F5cyijavkv"
   },
   "source": [
    "The <a href=\"https://pytorch.org/docs/stable/nn.html\">PyTorch NN package</a> contains many useful classes for creating computation graphs.\n",
    "<ul>\n",
    "<li> The class <a href=\"http://pytorch.org/docs/master/nn.html#module\">torch.nn.Module</a>: \n",
    "any new module must inherit from this class or its descendants (subclasses).\n",
    "</li>   \n",
    "<li> The `forward` method:  any class defining a module must implement the `forward(...)` method, which defines the transformation of inputs to outputs.</li>  \n",
    "<li> The class <a href=\"http://pytorch.org/docs/master/nn.html#torch.nn.Linear\">`torch.nn.Linear(in_features, out_features)`</a>: this class implements a linear transformation. By default, it takes two parameters: \n",
    "    <ul>\n",
    "    <li>`in_features`: the size of the data at the input of the module. </li>\n",
    "    <li>`out_features`: the size of the data at the output of the module. </li>\n",
    "    </ul>\n",
    "</li>\n",
    "<li> The module <a href=\"http://pytorch.org/docs/master/nn.html#torch-nn-functional\">`torch.nn.functional`</a>: \n",
    "it defines a set of functions that can be applied directly to any tensor. As examples, we have:\n",
    "    <ul>\n",
    "    <li> non-linear functions: sigmoid(...), tanh(...), relu(...), etc...</li> \n",
    "    <li> cost functions: mse_loss(...), nll(...., cross_entropy(...), etc ... </li> \n",
    "    <li> regularization functions: droupout(...), etc ... </li> \n",
    "    <li> ...</li> \n",
    "    </ul>\n",
    "</li>\n",
    "</ul>"
   ]
  },
  {
   "cell_type": "markdown",
   "metadata": {
    "colab_type": "text",
    "id": "Tscha6S-KIBB"
   },
   "source": [
    "You need to complete the following methods:\n",
    "<ul>\n",
    "<li>The `__init__` method that defines the layers. </li>\n",
    "<li>The `forward(input)` method that returns the `output`. </li>\n",
    "</ul>"
   ]
  },
  {
   "cell_type": "code",
   "execution_count": 6,
   "metadata": {
    "colab": {},
    "colab_type": "code",
    "id": "8NyQGwC-avkw"
   },
   "outputs": [],
   "source": [
    "import torch\n",
    "import torch.nn as nn\n",
    "import torch.nn.functional as F\n",
    "seed = 1234\n",
    "torch.manual_seed(seed)\n",
    "torch.cuda.manual_seed(seed)"
   ]
  },
  {
   "cell_type": "code",
   "execution_count": 7,
   "metadata": {
    "colab": {},
    "colab_type": "code",
    "id": "xR5eBfIbavk0"
   },
   "outputs": [],
   "source": [
    "class NeuralNet(nn.Module):\n",
    "    def __init__(self):\n",
    "        super(NeuralNet, self).__init__()\n",
    "        self.fc1 = nn.Linear(12, 20)     # start with 12 features\n",
    "        self.fc2 = nn.Linear(20, 40)\n",
    "        self.fc3 = nn.Linear(40, 20)\n",
    "        self.fc4 = nn.Linear(20, 2)\n",
    "        # nn.module just define the architecture\n",
    "        # F.module do computation directly\n",
    "\n",
    "    def forward(self, x):\n",
    "        x = F.relu(self.fc1(x))\n",
    "        x = F.relu(self.fc2(x))\n",
    "        x = F.relu(self.fc3(x))\n",
    "        out = self.fc4(x)\n",
    "        return out"
   ]
  },
  {
   "cell_type": "markdown",
   "metadata": {
    "colab_type": "text",
    "id": "OvLnHRZ5avk2"
   },
   "source": [
    "## Making predictions with a neural network"
   ]
  },
  {
   "cell_type": "markdown",
   "metadata": {
    "colab_type": "text",
    "id": "uEXgJMDDavk3"
   },
   "source": [
    "Now, we are ready to test our neural network on randomly selected data.\n",
    "\n",
    "In PyTorch, a model has two different modes:\n",
    "    <ul>\n",
    "    <li> <b>train</b>: used during training, </li>\n",
    "    <li> <b>eval</b>: used during inference for model evaluation. </li>\n",
    "    </ul>\n",
    "The distinction is important since some modules behave differently according to this mode.\n",
    "We will use the <b>eval</b> mode in this section."
   ]
  },
  {
   "cell_type": "code",
   "execution_count": 8,
   "metadata": {
    "colab": {
     "base_uri": "https://localhost:8080/",
     "height": 104
    },
    "colab_type": "code",
    "id": "gzcABMezavk6",
    "outputId": "d65d2777-ee2a-4f9d-9259-edb76428ad6f"
   },
   "outputs": [
    {
     "name": "stdout",
     "output_type": "stream",
     "text": [
      "tensor([[0.5093, 0.4907],\n",
      "        [0.5069, 0.4931],\n",
      "        [0.5129, 0.4871],\n",
      "        [0.5022, 0.4978],\n",
      "        [0.4427, 0.5573]], grad_fn=<SoftmaxBackward>)\n"
     ]
    }
   ],
   "source": [
    "# Model definition\n",
    "neural_net = NeuralNet()\n",
    "neural_net = neural_net.to(device)\n",
    "\n",
    "# Eval mode activation\n",
    "neural_net = neural_net.eval()\n",
    "\n",
    "# Select the first 5 data points\n",
    "data, target = val_dataset[0:5]\n",
    "data = data.to(device)\n",
    "target = target.to(device)\n",
    "\n",
    "# Forward propagation of the data through the model\n",
    "output = neural_net(data)   # equivalent to neural_net.forward(data)\n",
    "\n",
    "# Convert the logits into probabilities with softmax function\n",
    "output_proba = F.softmax(output, dim=1)\n",
    "\n",
    "# Printing the probability\n",
    "print(output_proba)"
   ]
  },
  {
   "cell_type": "markdown",
   "metadata": {
    "colab_type": "text",
    "id": "fVep0BElavlS"
   },
   "source": [
    "The rows define the output of the network, in terms of probabilities over two classes: <b>deceased</b> (first column) or <b>survived</b> (second column), for each of the five input data points. Let us take the label with maximum probability as the predicted label and compare it to the correct label."
   ]
  },
  {
   "cell_type": "code",
   "execution_count": 9,
   "metadata": {
    "colab": {
     "base_uri": "https://localhost:8080/",
     "height": 87
    },
    "colab_type": "code",
    "id": "_jV4No36qjdU",
    "outputId": "995f5958-ab4d-4c8a-e486-f303405e1e88"
   },
   "outputs": [
    {
     "name": "stdout",
     "output_type": "stream",
     "text": [
      "Model prediction\n",
      "tensor([0, 0, 0, 0, 1])\n",
      "Actual data\n",
      "tensor([0, 0, 0, 0, 0])\n"
     ]
    }
   ],
   "source": [
    "# Printing predictions (class with the highest probability)\n",
    "_, prediction = torch.max(output_proba, dim=1)     #'_': values\n",
    "\n",
    "print('Model prediction')\n",
    "print(prediction)\n",
    "\n",
    "# Printing the real labels\n",
    "print(\"Actual data\")\n",
    "print(target)"
   ]
  },
  {
   "cell_type": "markdown",
   "metadata": {
    "colab_type": "text",
    "id": "SEIIjqOuqjdc"
   },
   "source": [
    "**Questions**\n",
    "\n",
    "1.   What would be a good way to measure the model performances?\n",
    "2.   How does our model perform?\n",
    "3.   Considering that the model is not trained on the dataset, do you see any problem with your selected measure?\n",
    "\n"
   ]
  },
  {
   "cell_type": "markdown",
   "metadata": {
    "colab_type": "text",
    "id": "iTTlBikYwb-w"
   },
   "source": [
    "\n",
    "**Possible answers**:\n",
    "\n",
    "\n",
    "1.   A simple measure of performance is the accuracy, the number of correct predictions over the total number of examples.\n",
    "2.   This model has an accuracy of 4/5 = 80%.\n",
    "3.   With accuracy, we already have a score of 80% with random weight, which happens when labels are unbalanced, and the model predicts the dominant class by chance. In this section, we are only using five examples to evaluate the model, which is not enough. However, if we observe this behavior on the whole validation set, then we may consider another measure of performance (e.g., precision/recall or F1-score).\n",
    "\n"
   ]
  },
  {
   "cell_type": "markdown",
   "metadata": {
    "colab_type": "text",
    "id": "0uySA2TCavmD"
   },
   "source": [
    "## Define the cost function and optimizer"
   ]
  },
  {
   "cell_type": "markdown",
   "metadata": {
    "colab_type": "text",
    "id": "EkoobCLMavmE"
   },
   "source": [
    "### Cost function"
   ]
  },
  {
   "cell_type": "markdown",
   "metadata": {
    "colab_type": "text",
    "id": "qkX7uSXQavmF"
   },
   "source": [
    "We define the cost function according to the task we want to achieve.\n",
    "\n",
    "PyTorch offers <a href=\"https://pytorch.org/docs/stable/nn.html#loss-functions\">many ready-to-use cost functions</a>.\n",
    "\n",
    "For classification problems, the usual cost function is <b>cross-entropy</b>, and this is the one we will use in this tutorial. In PyTorch, it is defined by the function <a href=\"https://pytorch.org/docs/master/nn.functional.html#cross-entropy\">`torch.nn.functional.cross_entropy`</a>.  Cross entropy allows comparing a $p$ distribution with a reference distribution $t$. It attains its minimum when $t=p$. Its formula for calculating it between the prediction and the target is: $-\\sum_j t_{ij} \\log(p_{ij})$ where $p$ is the prediction, $t$ the target, $i$ the examples and $j$ the classes of the target."
   ]
  },
  {
   "cell_type": "code",
   "execution_count": 11,
   "metadata": {
    "colab": {},
    "colab_type": "code",
    "id": "FHnfYeS5avmF"
   },
   "outputs": [],
   "source": [
    "import torch.nn.functional as F\n",
    "\n",
    "\n",
    "def cost_function(prediction, target):\n",
    "    loss = F.cross_entropy(prediction, target)\n",
    "    return loss"
   ]
  },
  {
   "cell_type": "markdown",
   "metadata": {
    "colab_type": "text",
    "id": "Vsx_cv9Wqjdj"
   },
   "source": [
    "### Backpropagation"
   ]
  },
  {
   "cell_type": "markdown",
   "metadata": {
    "colab_type": "text",
    "id": "0hcZaIKtavmH"
   },
   "source": [
    "In Pytorch, thanks to the automatic differentiation mechanism <a href=\"http://pytorch.org/docs/master/notes/autograd.html\">Autograd</a>, it is possible to automatically calculate the gradient of the cost function and backpropagate it through the computational graph.\n",
    "\n",
    "To do this, we only have to call the method `backward()` on the variable returned by the cost function, e.g., with\n",
    "\n",
    "`loss = cost_function(....)` <br>\n",
    "`loss.backward()`"
   ]
  },
  {
   "cell_type": "markdown",
   "metadata": {
    "colab_type": "text",
    "id": "8YNo_ymYavmH"
   },
   "source": [
    "### Optimization"
   ]
  },
  {
   "cell_type": "markdown",
   "metadata": {
    "colab_type": "text",
    "id": "Y4AlX9TwavmH"
   },
   "source": [
    "PyTorch provides a <a href=\"http://pytorch.org/docs/master/optim.html#algorithms\">set of optimization methods (`torch.optim`)</a> commonly used by the deep learning community. These methods include the following: \n",
    "<ul>\n",
    "<li><b>SGD</b> (Stochastic Gradient Descent) <a href=\"http://pytorch.org/docs/master/optim.html#torch.optim.SGD\">`torch.optim.SGD(net.parameters(), lr=learning_rate)`</a></li>\n",
    "<li><b>Adam</b> (Adaptive Moment Estimation): a variant of the gradient descent method in which the learning rate is adjusted for each parameter. This adjustment is based on the estimation of the first and second moments of the gradients. This optimizer has demonstrated excellent performance compared to SGD on many benchmarks. </li>\n",
    "</ul>"
   ]
  },
  {
   "cell_type": "markdown",
   "metadata": {
    "colab_type": "text",
    "id": "Uam-a0_0qjdl"
   },
   "source": [
    "To be able to use an optimizer in PyTorch, we must instantiate it by passing the following elements:\n",
    "<ul>\n",
    "<li><b>The parameters of the model</b>: these are obtained using the method <b>parameters()</b> on the instantiated model. </li>\n",
    "<li><b>The learning rate (lr)</b>: this is the learning rate to be used to update parameters during the optimization process. </li>\n",
    "<li>There may be other parameters specific to the chosen optimizer.</li>\n",
    "</ul>\n"
   ]
  },
  {
   "cell_type": "markdown",
   "metadata": {
    "colab_type": "text",
    "id": "jt6_Qr6ravmI"
   },
   "source": [
    "PyTorch offers a simplified interface to interact with any optimizer:\n",
    "<ul>\n",
    "<li><b>zero_grad()</b>: Allows to reinitialize the gradients to zero at the beginning of an optimization step.</li>\n",
    "<li><b>step()</b>: Allows to perform an optimization step after a gradient backpropagation step.</li>\n",
    "</ul>"
   ]
  },
  {
   "cell_type": "markdown",
   "metadata": {
    "colab_type": "text",
    "id": "fZ-lKExqavmI"
   },
   "source": [
    "We will use Adam with a lr of 0.001."
   ]
  },
  {
   "cell_type": "code",
   "execution_count": 12,
   "metadata": {
    "colab": {},
    "colab_type": "code",
    "id": "WDMOziJTavmI"
   },
   "outputs": [],
   "source": [
    "import torch.optim as optim\n",
    "\n",
    "optimizer = optim.Adam(neural_net.parameters(), lr=0.001) "
   ]
  },
  {
   "cell_type": "markdown",
   "metadata": {
    "colab_type": "text",
    "id": "OnFOAfdGqjdr"
   },
   "source": [
    "# How to train a model?\n",
    "First, we need some definitions:\n",
    "<ol>\n",
    "<li>\n",
    "<b>Epoch</b>: a complete pass over the entire training dataset.\n",
    "</li>\n",
    "<li>\n",
    "<b>Iteration</b>: an update of the model parameters. Many iterations can occur before the end of an epoch.\n",
    "</li>\n",
    "<li>\n",
    "<b>Mini-batch</b>: A subset of training data used to estimate the average of gradients. In other words, at each iteration, a mini-batch is used. \n",
    "</li>\n",
    "</ol>"
   ]
  },
  {
   "cell_type": "markdown",
   "metadata": {
    "colab_type": "text",
    "id": "LLXjNiDTavmK"
   },
   "source": [
    "## Creating the mini-batches\n",
    "PyTorch offers a utility called <b><a href=\"http://pytorch.org/docs/master/data.html\"> torch.utils.data.DataLoader </a></b> to load any dataset and automatically split it into mini-batches. During training, the data presented to the network should appear in a different order from one epoch to another. We will prepare the `DataLoader` for our three datasets (training, validation, and test)."
   ]
  },
  {
   "cell_type": "code",
   "execution_count": 13,
   "metadata": {
    "colab": {},
    "colab_type": "code",
    "id": "RGoQZSdqavmM"
   },
   "outputs": [],
   "source": [
    "train_batch_size = 32  # number of data in a training batch.\n",
    "eval_batch_size = 32   # number of data in an batch.\n",
    "\n",
    "\n",
    "train_loader = torch.utils.data.DataLoader(train_dataset, batch_size=train_batch_size, shuffle=True)\n",
    "\n",
    "val_loader   = torch.utils.data.DataLoader(val_dataset, batch_size=eval_batch_size, shuffle=False)\n",
    "test_loader  = torch.utils.data.DataLoader(test_dataset, batch_size=eval_batch_size, shuffle=False)"
   ]
  },
  {
   "cell_type": "markdown",
   "metadata": {
    "colab_type": "text",
    "id": "Ia3ai-GvavmP"
   },
   "source": [
    "## Simple training loop"
   ]
  },
  {
   "cell_type": "markdown",
   "metadata": {
    "colab_type": "text",
    "id": "v9wNZrTnavmQ"
   },
   "source": [
    "Here we define our training procedure for an epoch."
   ]
  },
  {
   "cell_type": "code",
   "execution_count": 14,
   "metadata": {
    "colab": {},
    "colab_type": "code",
    "id": "ZyK9xCsZavmR"
   },
   "outputs": [],
   "source": [
    "def train(epoch, model, train_loader, optimizer, device):\n",
    "    \n",
    "    # activate the training mode\n",
    "    model.train()\n",
    "    \n",
    "    torch.set_grad_enabled(True)\n",
    "    \n",
    "    total_loss = 0\n",
    "    correct = 0\n",
    "    \n",
    "    # iteration over the mini-batches\n",
    "    for batch_idx, (data, target) in enumerate(train_loader):\n",
    "        \n",
    "        # transfer the data on the chosen device\n",
    "        data, target = data.to(device), target.to(device)\n",
    "        \n",
    "        # reinitialize the gradients to zero\n",
    "        optimizer.zero_grad()\n",
    "        \n",
    "        # forward propagation on the data\n",
    "        prediction = model(data)\n",
    "        \n",
    "        # compute the cost function w.r.t. the targets\n",
    "        loss = cost_function(prediction, target)\n",
    "        \n",
    "        # execute the backpropagation\n",
    "        loss.backward()\n",
    "        \n",
    "        # execute an optimization step\n",
    "        optimizer.step()\n",
    "        \n",
    "        # accumulate the loss\n",
    "        total_loss += loss.item()*len(data)\n",
    "        \n",
    "        # compute the number of correct predictions\n",
    "        _, pred_classes = torch.max(prediction, dim=1)        \n",
    "        correct += pred_classes.eq(target.view_as(pred_classes)).sum().item()\n",
    "         \n",
    "        \n",
    "    # compute the average cost per epoch\n",
    "    mean_loss = total_loss/len(train_loader.dataset)\n",
    "    \n",
    "    # compute the accuracy\n",
    "    acc = correct / len(train_loader.dataset)\n",
    "        \n",
    "    print('Train Epoch: {}   Avg_Loss: {:.5f}   Acc: {}/{} ({:.3f}%)'.format(\n",
    "        epoch, mean_loss, correct, len(train_loader.dataset),\n",
    "        100. * acc))   \n",
    "    \n",
    "    # return the average loss and the accuracy\n",
    "    return mean_loss, acc"
   ]
  },
  {
   "cell_type": "markdown",
   "metadata": {
    "colab_type": "text",
    "id": "PxG666rmavmU"
   },
   "source": [
    "## Evaluation procedure"
   ]
  },
  {
   "cell_type": "markdown",
   "metadata": {
    "colab_type": "text",
    "id": "vGexbWaHavmU"
   },
   "source": [
    "Here we define our model evaluation procedure.\n",
    "<br/>\n",
    "In addition to switching the model to **eval** mode, it is essential to disable the gradient calculation. \n",
    "<br/>\n",
    "To do this, PyTorch offers a set of context managers to <a href=\"https://pytorch.org/docs/0.4.0/torch.html#locally-disabling-gradient-computation\">locally disable/enable gradient calculation </a>:\n",
    "<ol>\n",
    "<li>\n",
    "`torch.no_grad()`: disable gradient calculation.\n",
    "</li>\n",
    "<li>\n",
    "`torch.enable_grad()`: enable gradient calculation.\n",
    "</li>\n",
    "<li>\n",
    "`torch.set_grad_enabled(bool)`: enable/disable gradient calculation.\n",
    "</li>\n",
    "</ol>\n",
    "\n"
   ]
  },
  {
   "cell_type": "code",
   "execution_count": 15,
   "metadata": {
    "colab": {},
    "colab_type": "code",
    "id": "8gQj9W5LavmU"
   },
   "outputs": [],
   "source": [
    "def evaluate(model, eval_loader, device):\n",
    "    \n",
    "    # activate the evaluation mode\n",
    "    model.eval()\n",
    "    \n",
    "    total_loss = 0\n",
    "    correct = 0\n",
    "    \n",
    "    with torch.no_grad():\n",
    "    \n",
    "        # iterate over the batches\n",
    "        for batch_idx, (data, target) in enumerate(eval_loader):\n",
    "\n",
    "            # transfer the data on the chosen device\n",
    "            data, target = data.to(device), target.to(device)\n",
    "\n",
    "            # forward propagation on the data\n",
    "            prediction = model(data)\n",
    "\n",
    "            # compute the cost function w.r.t. the targets\n",
    "            loss = cost_function(prediction, target)           \n",
    "\n",
    "\n",
    "            # accumulate the loss\n",
    "            total_loss += loss.item()*len(data)\n",
    "\n",
    "            # compute the number of correct predictions en sortie)\n",
    "            _, pred_classes = torch.max(prediction, dim=1) \n",
    "            correct += pred_classes.eq(target.view_as(pred_classes)).sum().item()         \n",
    "          \n",
    "    \n",
    "    # compute the average cost per epoch\n",
    "    mean_loss = total_loss/len(eval_loader.dataset)\n",
    "    \n",
    "    # compute the accuracy\n",
    "    acc = correct / len(eval_loader.dataset)\n",
    "        \n",
    "    print('Eval:  Avg_Loss: {:.5f}   Acc: {}/{} ({:.3f}%)'.format(\n",
    "        mean_loss, correct, len(eval_loader.dataset),\n",
    "        100. * acc)) \n",
    "    \n",
    "    # return the average loss and the accuracy\n",
    "    return mean_loss, acc"
   ]
  },
  {
   "cell_type": "markdown",
   "metadata": {
    "colab_type": "text",
    "id": "fMUyZNxdavmW"
   },
   "source": [
    "## Checkpointing"
   ]
  },
  {
   "cell_type": "markdown",
   "metadata": {
    "colab_type": "text",
    "id": "lQLklQXAavmW"
   },
   "source": [
    "For training phases that require much time, it is recommended to save periodically the model parameters. This step is commonly referred to as <b>checkpointing</b>.\n",
    "\n",
    "PyTorch offers <a href=\"http://pytorch.org/docs/master/notes/serialization.html\">a simple mechanism</a> to perform this operation. \n",
    "\n",
    "\n",
    "\n",
    "\n"
   ]
  },
  {
   "cell_type": "markdown",
   "metadata": {
    "colab_type": "text",
    "id": "Ld-Y2gF-avmX"
   },
   "source": [
    "We implement two methods here:\n",
    "<ul>\n",
    "<li> the first one for <b> saving </b> a model,</li>\n",
    "<li> the second for <b> loading </b> a model checkpoint. </li>\n",
    "</ul>"
   ]
  },
  {
   "cell_type": "code",
   "execution_count": 16,
   "metadata": {
    "colab": {},
    "colab_type": "code",
    "id": "dMmNpma2avmX"
   },
   "outputs": [],
   "source": [
    "def save_model(epoch, model, path='./'):\n",
    "    \n",
    "    # creating the file name indexed by the epoch value\n",
    "    filename = path + 'neural_network_{}.pt'.format(epoch)\n",
    "    \n",
    "    # saving the model parameters\n",
    "    torch.save(model.state_dict(), filename)\n",
    "    \n",
    "    \n",
    "    return model\n",
    "    "
   ]
  },
  {
   "cell_type": "code",
   "execution_count": 17,
   "metadata": {
    "colab": {},
    "colab_type": "code",
    "id": "2ZptgqQRavmZ"
   },
   "outputs": [],
   "source": [
    "def load_model(epoch, model, path='./'):\n",
    "    \n",
    "    # creating the file name indexed by the epoch value\n",
    "    filename = path + 'neural_network_{}.pt'.format(epoch)\n",
    "    \n",
    "    # loading the parameters of the saved model\n",
    "    model.load_state_dict(torch.load(filename))\n",
    "    \n",
    "    \n",
    "    return model"
   ]
  },
  {
   "cell_type": "markdown",
   "metadata": {
    "colab_type": "text",
    "id": "ve8sOocWavma"
   },
   "source": [
    "It is also possible to save the status of the optimizer in PyTorch, which is very important when we want to resume training the model from a given backup. For more information, please consult <a href='https://discuss.pytorch.org/t/saving-and-loading-a-model-in-pytorch/2610/3'>the following URL</a>. "
   ]
  },
  {
   "cell_type": "markdown",
   "metadata": {
    "colab_type": "text",
    "id": "8lcAP8-1avma"
   },
   "source": [
    "## Putting everything together"
   ]
  },
  {
   "cell_type": "code",
   "execution_count": 18,
   "metadata": {
    "colab": {
     "base_uri": "https://localhost:8080/",
     "height": 1000
    },
    "colab_type": "code",
    "id": "keMpyePsavmb",
    "outputId": "638ef04a-0f0e-4e8a-8b50-23884324a79b"
   },
   "outputs": [
    {
     "name": "stdout",
     "output_type": "stream",
     "text": [
      "Train Epoch: 1   Avg_Loss: 0.82669   Acc: 275/625 (44.000%)\n",
      "Eval:  Avg_Loss: 0.69597   Acc: 99/209 (47.368%)\n",
      "Train Epoch: 2   Avg_Loss: 0.66111   Acc: 397/625 (63.520%)\n",
      "Eval:  Avg_Loss: 0.65175   Acc: 144/209 (68.900%)\n",
      "Train Epoch: 3   Avg_Loss: 0.63141   Acc: 421/625 (67.360%)\n",
      "Eval:  Avg_Loss: 0.62352   Acc: 145/209 (69.378%)\n",
      "Train Epoch: 4   Avg_Loss: 0.61599   Acc: 423/625 (67.680%)\n",
      "Eval:  Avg_Loss: 0.61681   Acc: 142/209 (67.943%)\n",
      "Train Epoch: 5   Avg_Loss: 0.61261   Acc: 431/625 (68.960%)\n",
      "Eval:  Avg_Loss: 0.60453   Acc: 142/209 (67.943%)\n",
      "Train Epoch: 6   Avg_Loss: 0.61117   Acc: 426/625 (68.160%)\n",
      "Eval:  Avg_Loss: 0.60108   Acc: 144/209 (68.900%)\n",
      "Train Epoch: 7   Avg_Loss: 0.60210   Acc: 427/625 (68.320%)\n",
      "Eval:  Avg_Loss: 0.59878   Acc: 143/209 (68.421%)\n",
      "Train Epoch: 8   Avg_Loss: 0.60072   Acc: 427/625 (68.320%)\n",
      "Eval:  Avg_Loss: 0.59606   Acc: 144/209 (68.900%)\n",
      "Train Epoch: 9   Avg_Loss: 0.59455   Acc: 429/625 (68.640%)\n",
      "Eval:  Avg_Loss: 0.58268   Acc: 145/209 (69.378%)\n",
      "Train Epoch: 10   Avg_Loss: 0.58700   Acc: 429/625 (68.640%)\n",
      "Eval:  Avg_Loss: 0.57752   Acc: 146/209 (69.856%)\n",
      "Train Epoch: 11   Avg_Loss: 0.57737   Acc: 435/625 (69.600%)\n",
      "Eval:  Avg_Loss: 0.56965   Acc: 146/209 (69.856%)\n",
      "Train Epoch: 12   Avg_Loss: 0.56613   Acc: 445/625 (71.200%)\n",
      "Eval:  Avg_Loss: 0.56516   Acc: 146/209 (69.856%)\n",
      "Train Epoch: 13   Avg_Loss: 0.55887   Acc: 454/625 (72.640%)\n",
      "Eval:  Avg_Loss: 0.55602   Acc: 151/209 (72.249%)\n",
      "Train Epoch: 14   Avg_Loss: 0.55907   Acc: 456/625 (72.960%)\n",
      "Eval:  Avg_Loss: 0.56250   Acc: 147/209 (70.335%)\n",
      "Train Epoch: 15   Avg_Loss: 0.54461   Acc: 462/625 (73.920%)\n",
      "Eval:  Avg_Loss: 0.53498   Acc: 152/209 (72.727%)\n",
      "Train Epoch: 16   Avg_Loss: 0.52883   Acc: 471/625 (75.360%)\n",
      "Eval:  Avg_Loss: 0.52431   Acc: 156/209 (74.641%)\n",
      "Train Epoch: 17   Avg_Loss: 0.50891   Acc: 478/625 (76.480%)\n",
      "Eval:  Avg_Loss: 0.52312   Acc: 157/209 (75.120%)\n",
      "Train Epoch: 18   Avg_Loss: 0.49627   Acc: 483/625 (77.280%)\n",
      "Eval:  Avg_Loss: 0.50566   Acc: 161/209 (77.033%)\n",
      "Train Epoch: 19   Avg_Loss: 0.48700   Acc: 485/625 (77.600%)\n",
      "Eval:  Avg_Loss: 0.51311   Acc: 165/209 (78.947%)\n",
      "Train Epoch: 20   Avg_Loss: 0.49819   Acc: 480/625 (76.800%)\n",
      "Eval:  Avg_Loss: 0.50521   Acc: 163/209 (77.990%)\n",
      "Train Epoch: 21   Avg_Loss: 0.46607   Acc: 498/625 (79.680%)\n",
      "Eval:  Avg_Loss: 0.50268   Acc: 158/209 (75.598%)\n",
      "Train Epoch: 22   Avg_Loss: 0.48540   Acc: 484/625 (77.440%)\n",
      "Eval:  Avg_Loss: 0.50149   Acc: 163/209 (77.990%)\n",
      "Train Epoch: 23   Avg_Loss: 0.47134   Acc: 483/625 (77.280%)\n",
      "Eval:  Avg_Loss: 0.50674   Acc: 164/209 (78.469%)\n",
      "Train Epoch: 24   Avg_Loss: 0.46481   Acc: 492/625 (78.720%)\n",
      "Eval:  Avg_Loss: 0.50154   Acc: 164/209 (78.469%)\n",
      "Train Epoch: 25   Avg_Loss: 0.46043   Acc: 494/625 (79.040%)\n",
      "Eval:  Avg_Loss: 0.49345   Acc: 167/209 (79.904%)\n",
      "Train Epoch: 26   Avg_Loss: 0.44816   Acc: 496/625 (79.360%)\n",
      "Eval:  Avg_Loss: 0.49766   Acc: 165/209 (78.947%)\n",
      "Train Epoch: 27   Avg_Loss: 0.44127   Acc: 498/625 (79.680%)\n",
      "Eval:  Avg_Loss: 0.50072   Acc: 166/209 (79.426%)\n",
      "Train Epoch: 28   Avg_Loss: 0.44017   Acc: 507/625 (81.120%)\n",
      "Eval:  Avg_Loss: 0.49737   Acc: 163/209 (77.990%)\n",
      "Train Epoch: 29   Avg_Loss: 0.43723   Acc: 502/625 (80.320%)\n",
      "Eval:  Avg_Loss: 0.51149   Acc: 166/209 (79.426%)\n",
      "Train Epoch: 30   Avg_Loss: 0.43729   Acc: 506/625 (80.960%)\n",
      "Eval:  Avg_Loss: 0.50325   Acc: 167/209 (79.904%)\n",
      "Train Epoch: 31   Avg_Loss: 0.44262   Acc: 501/625 (80.160%)\n",
      "Eval:  Avg_Loss: 0.51388   Acc: 164/209 (78.469%)\n",
      "Train Epoch: 32   Avg_Loss: 0.45369   Acc: 500/625 (80.000%)\n",
      "Eval:  Avg_Loss: 0.50466   Acc: 167/209 (79.904%)\n",
      "Train Epoch: 33   Avg_Loss: 0.45676   Acc: 497/625 (79.520%)\n",
      "Eval:  Avg_Loss: 0.51477   Acc: 160/209 (76.555%)\n",
      "Train Epoch: 34   Avg_Loss: 0.45612   Acc: 497/625 (79.520%)\n",
      "Eval:  Avg_Loss: 0.50982   Acc: 163/209 (77.990%)\n",
      "Train Epoch: 35   Avg_Loss: 0.43095   Acc: 507/625 (81.120%)\n",
      "Eval:  Avg_Loss: 0.50017   Acc: 168/209 (80.383%)\n",
      "Train Epoch: 36   Avg_Loss: 0.42578   Acc: 508/625 (81.280%)\n",
      "Eval:  Avg_Loss: 0.49845   Acc: 166/209 (79.426%)\n",
      "Train Epoch: 37   Avg_Loss: 0.42918   Acc: 507/625 (81.120%)\n",
      "Eval:  Avg_Loss: 0.51367   Acc: 167/209 (79.904%)\n",
      "Train Epoch: 38   Avg_Loss: 0.43003   Acc: 504/625 (80.640%)\n",
      "Eval:  Avg_Loss: 0.51591   Acc: 162/209 (77.512%)\n",
      "Train Epoch: 39   Avg_Loss: 0.43331   Acc: 504/625 (80.640%)\n",
      "Eval:  Avg_Loss: 0.52294   Acc: 162/209 (77.512%)\n",
      "Train Epoch: 40   Avg_Loss: 0.42899   Acc: 504/625 (80.640%)\n",
      "Eval:  Avg_Loss: 0.50765   Acc: 163/209 (77.990%)\n",
      "Train Epoch: 41   Avg_Loss: 0.42353   Acc: 511/625 (81.760%)\n",
      "Eval:  Avg_Loss: 0.53098   Acc: 160/209 (76.555%)\n",
      "Train Epoch: 42   Avg_Loss: 0.43162   Acc: 510/625 (81.600%)\n",
      "Eval:  Avg_Loss: 0.51242   Acc: 165/209 (78.947%)\n",
      "Train Epoch: 43   Avg_Loss: 0.42274   Acc: 508/625 (81.280%)\n",
      "Eval:  Avg_Loss: 0.52351   Acc: 161/209 (77.033%)\n",
      "Train Epoch: 44   Avg_Loss: 0.41901   Acc: 512/625 (81.920%)\n",
      "Eval:  Avg_Loss: 0.51061   Acc: 166/209 (79.426%)\n",
      "Train Epoch: 45   Avg_Loss: 0.41774   Acc: 508/625 (81.280%)\n",
      "Eval:  Avg_Loss: 0.51765   Acc: 169/209 (80.861%)\n",
      "Train Epoch: 46   Avg_Loss: 0.42539   Acc: 512/625 (81.920%)\n",
      "Eval:  Avg_Loss: 0.49882   Acc: 169/209 (80.861%)\n",
      "Train Epoch: 47   Avg_Loss: 0.42986   Acc: 510/625 (81.600%)\n",
      "Eval:  Avg_Loss: 0.52549   Acc: 161/209 (77.033%)\n",
      "Train Epoch: 48   Avg_Loss: 0.42133   Acc: 510/625 (81.600%)\n",
      "Eval:  Avg_Loss: 0.51714   Acc: 165/209 (78.947%)\n",
      "Train Epoch: 49   Avg_Loss: 0.42430   Acc: 511/625 (81.760%)\n",
      "Eval:  Avg_Loss: 0.51036   Acc: 169/209 (80.861%)\n",
      "Train Epoch: 50   Avg_Loss: 0.41490   Acc: 515/625 (82.400%)\n",
      "Eval:  Avg_Loss: 0.49750   Acc: 170/209 (81.340%)\n",
      "Train Epoch: 51   Avg_Loss: 0.40705   Acc: 515/625 (82.400%)\n",
      "Eval:  Avg_Loss: 0.51579   Acc: 167/209 (79.904%)\n",
      "Train Epoch: 52   Avg_Loss: 0.41079   Acc: 515/625 (82.400%)\n",
      "Eval:  Avg_Loss: 0.51171   Acc: 169/209 (80.861%)\n",
      "Train Epoch: 53   Avg_Loss: 0.40665   Acc: 512/625 (81.920%)\n",
      "Eval:  Avg_Loss: 0.51348   Acc: 169/209 (80.861%)\n",
      "Train Epoch: 54   Avg_Loss: 0.40773   Acc: 510/625 (81.600%)\n",
      "Eval:  Avg_Loss: 0.50584   Acc: 170/209 (81.340%)\n",
      "Train Epoch: 55   Avg_Loss: 0.40528   Acc: 514/625 (82.240%)\n",
      "Eval:  Avg_Loss: 0.51098   Acc: 169/209 (80.861%)\n",
      "Train Epoch: 56   Avg_Loss: 0.40169   Acc: 516/625 (82.560%)\n",
      "Eval:  Avg_Loss: 0.51603   Acc: 169/209 (80.861%)\n",
      "Train Epoch: 57   Avg_Loss: 0.40443   Acc: 515/625 (82.400%)\n",
      "Eval:  Avg_Loss: 0.51208   Acc: 169/209 (80.861%)\n",
      "Train Epoch: 58   Avg_Loss: 0.40677   Acc: 512/625 (81.920%)\n",
      "Eval:  Avg_Loss: 0.51689   Acc: 168/209 (80.383%)\n",
      "Train Epoch: 59   Avg_Loss: 0.40295   Acc: 515/625 (82.400%)\n",
      "Eval:  Avg_Loss: 0.50207   Acc: 168/209 (80.383%)\n",
      "Train Epoch: 60   Avg_Loss: 0.41354   Acc: 513/625 (82.080%)\n",
      "Eval:  Avg_Loss: 0.51340   Acc: 170/209 (81.340%)\n",
      "Train Epoch: 61   Avg_Loss: 0.40447   Acc: 517/625 (82.720%)\n",
      "Eval:  Avg_Loss: 0.51662   Acc: 167/209 (79.904%)\n",
      "Train Epoch: 62   Avg_Loss: 0.40276   Acc: 520/625 (83.200%)\n",
      "Eval:  Avg_Loss: 0.51596   Acc: 168/209 (80.383%)\n",
      "Train Epoch: 63   Avg_Loss: 0.40671   Acc: 509/625 (81.440%)\n",
      "Eval:  Avg_Loss: 0.52560   Acc: 164/209 (78.469%)\n",
      "Train Epoch: 64   Avg_Loss: 0.40590   Acc: 512/625 (81.920%)\n",
      "Eval:  Avg_Loss: 0.54552   Acc: 169/209 (80.861%)\n",
      "Train Epoch: 65   Avg_Loss: 0.41163   Acc: 514/625 (82.240%)\n",
      "Eval:  Avg_Loss: 0.50450   Acc: 171/209 (81.818%)\n",
      "Train Epoch: 66   Avg_Loss: 0.40486   Acc: 510/625 (81.600%)\n",
      "Eval:  Avg_Loss: 0.51603   Acc: 169/209 (80.861%)\n",
      "Train Epoch: 67   Avg_Loss: 0.40354   Acc: 512/625 (81.920%)\n",
      "Eval:  Avg_Loss: 0.53236   Acc: 169/209 (80.861%)\n",
      "Train Epoch: 68   Avg_Loss: 0.40674   Acc: 517/625 (82.720%)\n",
      "Eval:  Avg_Loss: 0.52243   Acc: 170/209 (81.340%)\n",
      "Train Epoch: 69   Avg_Loss: 0.39861   Acc: 514/625 (82.240%)\n",
      "Eval:  Avg_Loss: 0.51513   Acc: 170/209 (81.340%)\n",
      "Train Epoch: 70   Avg_Loss: 0.39501   Acc: 516/625 (82.560%)\n",
      "Eval:  Avg_Loss: 0.51965   Acc: 170/209 (81.340%)\n",
      "Train Epoch: 71   Avg_Loss: 0.40384   Acc: 515/625 (82.400%)\n",
      "Eval:  Avg_Loss: 0.53967   Acc: 170/209 (81.340%)\n",
      "Train Epoch: 72   Avg_Loss: 0.39575   Acc: 515/625 (82.400%)\n",
      "Eval:  Avg_Loss: 0.54079   Acc: 169/209 (80.861%)\n",
      "Train Epoch: 73   Avg_Loss: 0.41207   Acc: 503/625 (80.480%)\n",
      "Eval:  Avg_Loss: 0.51060   Acc: 172/209 (82.297%)\n",
      "Train Epoch: 74   Avg_Loss: 0.39802   Acc: 515/625 (82.400%)\n",
      "Eval:  Avg_Loss: 0.50302   Acc: 169/209 (80.861%)\n",
      "Train Epoch: 75   Avg_Loss: 0.39220   Acc: 518/625 (82.880%)\n",
      "Eval:  Avg_Loss: 0.52859   Acc: 169/209 (80.861%)\n",
      "Train Epoch: 76   Avg_Loss: 0.39656   Acc: 512/625 (81.920%)\n",
      "Eval:  Avg_Loss: 0.51436   Acc: 171/209 (81.818%)\n",
      "Train Epoch: 77   Avg_Loss: 0.39145   Acc: 519/625 (83.040%)\n",
      "Eval:  Avg_Loss: 0.53645   Acc: 169/209 (80.861%)\n",
      "Train Epoch: 78   Avg_Loss: 0.39334   Acc: 517/625 (82.720%)\n",
      "Eval:  Avg_Loss: 0.53281   Acc: 170/209 (81.340%)\n",
      "Train Epoch: 79   Avg_Loss: 0.39815   Acc: 515/625 (82.400%)\n",
      "Eval:  Avg_Loss: 0.53625   Acc: 171/209 (81.818%)\n",
      "Train Epoch: 80   Avg_Loss: 0.39783   Acc: 516/625 (82.560%)\n",
      "Eval:  Avg_Loss: 0.55439   Acc: 165/209 (78.947%)\n",
      "Train Epoch: 81   Avg_Loss: 0.42876   Acc: 504/625 (80.640%)\n",
      "Eval:  Avg_Loss: 0.55882   Acc: 167/209 (79.904%)\n"
     ]
    },
    {
     "name": "stdout",
     "output_type": "stream",
     "text": [
      "Train Epoch: 82   Avg_Loss: 0.43476   Acc: 497/625 (79.520%)\n",
      "Eval:  Avg_Loss: 0.53700   Acc: 167/209 (79.904%)\n",
      "Train Epoch: 83   Avg_Loss: 0.40508   Acc: 512/625 (81.920%)\n",
      "Eval:  Avg_Loss: 0.54264   Acc: 167/209 (79.904%)\n",
      "Train Epoch: 84   Avg_Loss: 0.40325   Acc: 515/625 (82.400%)\n",
      "Eval:  Avg_Loss: 0.54721   Acc: 170/209 (81.340%)\n",
      "Train Epoch: 85   Avg_Loss: 0.40475   Acc: 513/625 (82.080%)\n",
      "Eval:  Avg_Loss: 0.52622   Acc: 169/209 (80.861%)\n",
      "Train Epoch: 86   Avg_Loss: 0.39416   Acc: 518/625 (82.880%)\n",
      "Eval:  Avg_Loss: 0.53282   Acc: 171/209 (81.818%)\n",
      "Train Epoch: 87   Avg_Loss: 0.39871   Acc: 516/625 (82.560%)\n",
      "Eval:  Avg_Loss: 0.51514   Acc: 169/209 (80.861%)\n",
      "Train Epoch: 88   Avg_Loss: 0.39338   Acc: 513/625 (82.080%)\n",
      "Eval:  Avg_Loss: 0.53511   Acc: 170/209 (81.340%)\n",
      "Train Epoch: 89   Avg_Loss: 0.38846   Acc: 519/625 (83.040%)\n",
      "Eval:  Avg_Loss: 0.52646   Acc: 171/209 (81.818%)\n",
      "Train Epoch: 90   Avg_Loss: 0.38506   Acc: 525/625 (84.000%)\n",
      "Eval:  Avg_Loss: 0.53982   Acc: 170/209 (81.340%)\n",
      "Train Epoch: 91   Avg_Loss: 0.39396   Acc: 514/625 (82.240%)\n",
      "Eval:  Avg_Loss: 0.53156   Acc: 169/209 (80.861%)\n",
      "Train Epoch: 92   Avg_Loss: 0.39150   Acc: 511/625 (81.760%)\n",
      "Eval:  Avg_Loss: 0.52424   Acc: 170/209 (81.340%)\n",
      "Train Epoch: 93   Avg_Loss: 0.38880   Acc: 519/625 (83.040%)\n",
      "Eval:  Avg_Loss: 0.53259   Acc: 172/209 (82.297%)\n",
      "Train Epoch: 94   Avg_Loss: 0.38527   Acc: 516/625 (82.560%)\n",
      "Eval:  Avg_Loss: 0.54343   Acc: 171/209 (81.818%)\n",
      "Train Epoch: 95   Avg_Loss: 0.38233   Acc: 521/625 (83.360%)\n",
      "Eval:  Avg_Loss: 0.55508   Acc: 169/209 (80.861%)\n",
      "Train Epoch: 96   Avg_Loss: 0.38985   Acc: 519/625 (83.040%)\n",
      "Eval:  Avg_Loss: 0.52917   Acc: 171/209 (81.818%)\n",
      "Train Epoch: 97   Avg_Loss: 0.38830   Acc: 517/625 (82.720%)\n",
      "Eval:  Avg_Loss: 0.54741   Acc: 172/209 (82.297%)\n",
      "Train Epoch: 98   Avg_Loss: 0.38575   Acc: 517/625 (82.720%)\n",
      "Eval:  Avg_Loss: 0.53059   Acc: 173/209 (82.775%)\n",
      "Train Epoch: 99   Avg_Loss: 0.38476   Acc: 520/625 (83.200%)\n",
      "Eval:  Avg_Loss: 0.54084   Acc: 172/209 (82.297%)\n",
      "Train Epoch: 100   Avg_Loss: 0.38348   Acc: 521/625 (83.360%)\n",
      "Eval:  Avg_Loss: 0.55011   Acc: 170/209 (81.340%)\n",
      "Train Epoch: 101   Avg_Loss: 0.39069   Acc: 514/625 (82.240%)\n",
      "Eval:  Avg_Loss: 0.54557   Acc: 173/209 (82.775%)\n",
      "Train Epoch: 102   Avg_Loss: 0.38530   Acc: 520/625 (83.200%)\n",
      "Eval:  Avg_Loss: 0.55731   Acc: 171/209 (81.818%)\n",
      "Train Epoch: 103   Avg_Loss: 0.38386   Acc: 514/625 (82.240%)\n",
      "Eval:  Avg_Loss: 0.55117   Acc: 172/209 (82.297%)\n",
      "Train Epoch: 104   Avg_Loss: 0.38128   Acc: 518/625 (82.880%)\n",
      "Eval:  Avg_Loss: 0.53140   Acc: 171/209 (81.818%)\n",
      "Train Epoch: 105   Avg_Loss: 0.39057   Acc: 515/625 (82.400%)\n",
      "Eval:  Avg_Loss: 0.52422   Acc: 169/209 (80.861%)\n",
      "Train Epoch: 106   Avg_Loss: 0.38181   Acc: 522/625 (83.520%)\n",
      "Eval:  Avg_Loss: 0.54568   Acc: 174/209 (83.254%)\n",
      "Train Epoch: 107   Avg_Loss: 0.37953   Acc: 520/625 (83.200%)\n",
      "Eval:  Avg_Loss: 0.55121   Acc: 172/209 (82.297%)\n",
      "Train Epoch: 108   Avg_Loss: 0.37725   Acc: 525/625 (84.000%)\n",
      "Eval:  Avg_Loss: 0.55389   Acc: 171/209 (81.818%)\n",
      "Train Epoch: 109   Avg_Loss: 0.37980   Acc: 524/625 (83.840%)\n",
      "Eval:  Avg_Loss: 0.54617   Acc: 171/209 (81.818%)\n",
      "Train Epoch: 110   Avg_Loss: 0.38019   Acc: 517/625 (82.720%)\n",
      "Eval:  Avg_Loss: 0.55920   Acc: 171/209 (81.818%)\n",
      "Train Epoch: 111   Avg_Loss: 0.37404   Acc: 527/625 (84.320%)\n",
      "Eval:  Avg_Loss: 0.54398   Acc: 172/209 (82.297%)\n",
      "Train Epoch: 112   Avg_Loss: 0.38093   Acc: 521/625 (83.360%)\n",
      "Eval:  Avg_Loss: 0.55697   Acc: 172/209 (82.297%)\n",
      "Train Epoch: 113   Avg_Loss: 0.37959   Acc: 522/625 (83.520%)\n",
      "Eval:  Avg_Loss: 0.55691   Acc: 171/209 (81.818%)\n",
      "Train Epoch: 114   Avg_Loss: 0.38245   Acc: 523/625 (83.680%)\n",
      "Eval:  Avg_Loss: 0.55407   Acc: 171/209 (81.818%)\n",
      "Train Epoch: 115   Avg_Loss: 0.38065   Acc: 523/625 (83.680%)\n",
      "Eval:  Avg_Loss: 0.55903   Acc: 171/209 (81.818%)\n",
      "Train Epoch: 116   Avg_Loss: 0.37243   Acc: 525/625 (84.000%)\n",
      "Eval:  Avg_Loss: 0.57284   Acc: 170/209 (81.340%)\n",
      "Train Epoch: 117   Avg_Loss: 0.37707   Acc: 520/625 (83.200%)\n",
      "Eval:  Avg_Loss: 0.58425   Acc: 173/209 (82.775%)\n",
      "Train Epoch: 118   Avg_Loss: 0.37513   Acc: 525/625 (84.000%)\n",
      "Eval:  Avg_Loss: 0.55882   Acc: 173/209 (82.775%)\n",
      "Train Epoch: 119   Avg_Loss: 0.37400   Acc: 524/625 (83.840%)\n",
      "Eval:  Avg_Loss: 0.58551   Acc: 171/209 (81.818%)\n",
      "Train Epoch: 120   Avg_Loss: 0.39284   Acc: 520/625 (83.200%)\n",
      "Eval:  Avg_Loss: 0.58440   Acc: 168/209 (80.383%)\n",
      "Train Epoch: 121   Avg_Loss: 0.39802   Acc: 515/625 (82.400%)\n",
      "Eval:  Avg_Loss: 0.57077   Acc: 171/209 (81.818%)\n",
      "Train Epoch: 122   Avg_Loss: 0.37712   Acc: 522/625 (83.520%)\n",
      "Eval:  Avg_Loss: 0.57876   Acc: 173/209 (82.775%)\n",
      "Train Epoch: 123   Avg_Loss: 0.37784   Acc: 528/625 (84.480%)\n",
      "Eval:  Avg_Loss: 0.56752   Acc: 173/209 (82.775%)\n",
      "Train Epoch: 124   Avg_Loss: 0.37189   Acc: 529/625 (84.640%)\n",
      "Eval:  Avg_Loss: 0.58487   Acc: 172/209 (82.297%)\n",
      "Train Epoch: 125   Avg_Loss: 0.37070   Acc: 530/625 (84.800%)\n",
      "Eval:  Avg_Loss: 0.54698   Acc: 168/209 (80.383%)\n",
      "Train Epoch: 126   Avg_Loss: 0.37901   Acc: 519/625 (83.040%)\n",
      "Eval:  Avg_Loss: 0.58905   Acc: 169/209 (80.861%)\n",
      "Train Epoch: 127   Avg_Loss: 0.37216   Acc: 522/625 (83.520%)\n",
      "Eval:  Avg_Loss: 0.55117   Acc: 171/209 (81.818%)\n",
      "Train Epoch: 128   Avg_Loss: 0.37411   Acc: 525/625 (84.000%)\n",
      "Eval:  Avg_Loss: 0.58049   Acc: 169/209 (80.861%)\n",
      "Train Epoch: 129   Avg_Loss: 0.37149   Acc: 519/625 (83.040%)\n",
      "Eval:  Avg_Loss: 0.57903   Acc: 169/209 (80.861%)\n",
      "Train Epoch: 130   Avg_Loss: 0.37098   Acc: 528/625 (84.480%)\n",
      "Eval:  Avg_Loss: 0.59163   Acc: 173/209 (82.775%)\n",
      "Train Epoch: 131   Avg_Loss: 0.38007   Acc: 519/625 (83.040%)\n",
      "Eval:  Avg_Loss: 0.58830   Acc: 170/209 (81.340%)\n",
      "Train Epoch: 132   Avg_Loss: 0.37207   Acc: 527/625 (84.320%)\n",
      "Eval:  Avg_Loss: 0.56079   Acc: 171/209 (81.818%)\n",
      "Train Epoch: 133   Avg_Loss: 0.38987   Acc: 519/625 (83.040%)\n",
      "Eval:  Avg_Loss: 0.58726   Acc: 175/209 (83.732%)\n",
      "Train Epoch: 134   Avg_Loss: 0.37068   Acc: 518/625 (82.880%)\n",
      "Eval:  Avg_Loss: 0.57925   Acc: 172/209 (82.297%)\n",
      "Train Epoch: 135   Avg_Loss: 0.37191   Acc: 527/625 (84.320%)\n",
      "Eval:  Avg_Loss: 0.58491   Acc: 172/209 (82.297%)\n",
      "Train Epoch: 136   Avg_Loss: 0.37213   Acc: 525/625 (84.000%)\n",
      "Eval:  Avg_Loss: 0.57920   Acc: 173/209 (82.775%)\n",
      "Train Epoch: 137   Avg_Loss: 0.37479   Acc: 520/625 (83.200%)\n",
      "Eval:  Avg_Loss: 0.60298   Acc: 171/209 (81.818%)\n",
      "Train Epoch: 138   Avg_Loss: 0.36875   Acc: 525/625 (84.000%)\n",
      "Eval:  Avg_Loss: 0.56671   Acc: 172/209 (82.297%)\n",
      "Train Epoch: 139   Avg_Loss: 0.37568   Acc: 520/625 (83.200%)\n",
      "Eval:  Avg_Loss: 0.60353   Acc: 174/209 (83.254%)\n",
      "Train Epoch: 140   Avg_Loss: 0.39557   Acc: 519/625 (83.040%)\n",
      "Eval:  Avg_Loss: 0.57456   Acc: 171/209 (81.818%)\n",
      "Train Epoch: 141   Avg_Loss: 0.37618   Acc: 522/625 (83.520%)\n",
      "Eval:  Avg_Loss: 0.58931   Acc: 173/209 (82.775%)\n",
      "Train Epoch: 142   Avg_Loss: 0.37337   Acc: 523/625 (83.680%)\n",
      "Eval:  Avg_Loss: 0.56702   Acc: 172/209 (82.297%)\n",
      "Train Epoch: 143   Avg_Loss: 0.36795   Acc: 522/625 (83.520%)\n",
      "Eval:  Avg_Loss: 0.57470   Acc: 169/209 (80.861%)\n",
      "Train Epoch: 144   Avg_Loss: 0.36902   Acc: 532/625 (85.120%)\n",
      "Eval:  Avg_Loss: 0.58266   Acc: 171/209 (81.818%)\n",
      "Train Epoch: 145   Avg_Loss: 0.36944   Acc: 526/625 (84.160%)\n",
      "Eval:  Avg_Loss: 0.59510   Acc: 167/209 (79.904%)\n",
      "Train Epoch: 146   Avg_Loss: 0.37183   Acc: 522/625 (83.520%)\n",
      "Eval:  Avg_Loss: 0.59384   Acc: 171/209 (81.818%)\n",
      "Train Epoch: 147   Avg_Loss: 0.36679   Acc: 529/625 (84.640%)\n",
      "Eval:  Avg_Loss: 0.59910   Acc: 173/209 (82.775%)\n",
      "Train Epoch: 148   Avg_Loss: 0.36909   Acc: 529/625 (84.640%)\n",
      "Eval:  Avg_Loss: 0.58857   Acc: 170/209 (81.340%)\n",
      "Train Epoch: 149   Avg_Loss: 0.36735   Acc: 527/625 (84.320%)\n",
      "Eval:  Avg_Loss: 0.60124   Acc: 171/209 (81.818%)\n",
      "Train Epoch: 150   Avg_Loss: 0.36595   Acc: 525/625 (84.000%)\n",
      "Eval:  Avg_Loss: 0.59212   Acc: 168/209 (80.383%)\n",
      "Train Epoch: 151   Avg_Loss: 0.36658   Acc: 530/625 (84.800%)\n",
      "Eval:  Avg_Loss: 0.57765   Acc: 171/209 (81.818%)\n",
      "Train Epoch: 152   Avg_Loss: 0.36406   Acc: 529/625 (84.640%)\n",
      "Eval:  Avg_Loss: 0.61539   Acc: 170/209 (81.340%)\n",
      "Train Epoch: 153   Avg_Loss: 0.36377   Acc: 525/625 (84.000%)\n",
      "Eval:  Avg_Loss: 0.57781   Acc: 174/209 (83.254%)\n",
      "Train Epoch: 154   Avg_Loss: 0.35754   Acc: 533/625 (85.280%)\n",
      "Eval:  Avg_Loss: 0.62580   Acc: 169/209 (80.861%)\n",
      "Train Epoch: 155   Avg_Loss: 0.37638   Acc: 528/625 (84.480%)\n",
      "Eval:  Avg_Loss: 0.65680   Acc: 166/209 (79.426%)\n",
      "Train Epoch: 156   Avg_Loss: 0.38740   Acc: 515/625 (82.400%)\n",
      "Eval:  Avg_Loss: 0.60651   Acc: 166/209 (79.426%)\n"
     ]
    },
    {
     "name": "stdout",
     "output_type": "stream",
     "text": [
      "Train Epoch: 157   Avg_Loss: 0.36717   Acc: 523/625 (83.680%)\n",
      "Eval:  Avg_Loss: 0.62615   Acc: 172/209 (82.297%)\n",
      "Train Epoch: 158   Avg_Loss: 0.36532   Acc: 524/625 (83.840%)\n",
      "Eval:  Avg_Loss: 0.56922   Acc: 170/209 (81.340%)\n",
      "Train Epoch: 159   Avg_Loss: 0.36538   Acc: 518/625 (82.880%)\n",
      "Eval:  Avg_Loss: 0.59799   Acc: 173/209 (82.775%)\n",
      "Train Epoch: 160   Avg_Loss: 0.37126   Acc: 518/625 (82.880%)\n",
      "Eval:  Avg_Loss: 0.60070   Acc: 168/209 (80.383%)\n",
      "Train Epoch: 161   Avg_Loss: 0.36846   Acc: 523/625 (83.680%)\n",
      "Eval:  Avg_Loss: 0.61783   Acc: 169/209 (80.861%)\n",
      "Train Epoch: 162   Avg_Loss: 0.36910   Acc: 528/625 (84.480%)\n",
      "Eval:  Avg_Loss: 0.57509   Acc: 168/209 (80.383%)\n",
      "Train Epoch: 163   Avg_Loss: 0.36566   Acc: 527/625 (84.320%)\n",
      "Eval:  Avg_Loss: 0.58777   Acc: 170/209 (81.340%)\n",
      "Train Epoch: 164   Avg_Loss: 0.36287   Acc: 527/625 (84.320%)\n",
      "Eval:  Avg_Loss: 0.64361   Acc: 168/209 (80.383%)\n",
      "Train Epoch: 165   Avg_Loss: 0.38015   Acc: 515/625 (82.400%)\n",
      "Eval:  Avg_Loss: 0.61008   Acc: 172/209 (82.297%)\n",
      "Train Epoch: 166   Avg_Loss: 0.36384   Acc: 525/625 (84.000%)\n",
      "Eval:  Avg_Loss: 0.60025   Acc: 171/209 (81.818%)\n",
      "Train Epoch: 167   Avg_Loss: 0.36353   Acc: 528/625 (84.480%)\n",
      "Eval:  Avg_Loss: 0.61918   Acc: 168/209 (80.383%)\n",
      "Train Epoch: 168   Avg_Loss: 0.35849   Acc: 524/625 (83.840%)\n",
      "Eval:  Avg_Loss: 0.62625   Acc: 172/209 (82.297%)\n",
      "Train Epoch: 169   Avg_Loss: 0.36186   Acc: 526/625 (84.160%)\n",
      "Eval:  Avg_Loss: 0.60303   Acc: 171/209 (81.818%)\n",
      "Train Epoch: 170   Avg_Loss: 0.37087   Acc: 527/625 (84.320%)\n",
      "Eval:  Avg_Loss: 0.60207   Acc: 172/209 (82.297%)\n",
      "Train Epoch: 171   Avg_Loss: 0.36295   Acc: 523/625 (83.680%)\n",
      "Eval:  Avg_Loss: 0.57974   Acc: 173/209 (82.775%)\n",
      "Train Epoch: 172   Avg_Loss: 0.36285   Acc: 525/625 (84.000%)\n",
      "Eval:  Avg_Loss: 0.62233   Acc: 170/209 (81.340%)\n",
      "Train Epoch: 173   Avg_Loss: 0.35624   Acc: 530/625 (84.800%)\n",
      "Eval:  Avg_Loss: 0.58499   Acc: 172/209 (82.297%)\n",
      "Train Epoch: 174   Avg_Loss: 0.35677   Acc: 524/625 (83.840%)\n",
      "Eval:  Avg_Loss: 0.62142   Acc: 174/209 (83.254%)\n",
      "Train Epoch: 175   Avg_Loss: 0.36560   Acc: 530/625 (84.800%)\n",
      "Eval:  Avg_Loss: 0.61107   Acc: 172/209 (82.297%)\n",
      "Train Epoch: 176   Avg_Loss: 0.35917   Acc: 527/625 (84.320%)\n",
      "Eval:  Avg_Loss: 0.62744   Acc: 172/209 (82.297%)\n",
      "Train Epoch: 177   Avg_Loss: 0.35540   Acc: 532/625 (85.120%)\n",
      "Eval:  Avg_Loss: 0.59999   Acc: 172/209 (82.297%)\n",
      "Train Epoch: 178   Avg_Loss: 0.35736   Acc: 529/625 (84.640%)\n",
      "Eval:  Avg_Loss: 0.61432   Acc: 172/209 (82.297%)\n",
      "Train Epoch: 179   Avg_Loss: 0.35977   Acc: 530/625 (84.800%)\n",
      "Eval:  Avg_Loss: 0.63158   Acc: 171/209 (81.818%)\n",
      "Train Epoch: 180   Avg_Loss: 0.35196   Acc: 531/625 (84.960%)\n",
      "Eval:  Avg_Loss: 0.62966   Acc: 169/209 (80.861%)\n",
      "Train Epoch: 181   Avg_Loss: 0.35920   Acc: 527/625 (84.320%)\n",
      "Eval:  Avg_Loss: 0.62455   Acc: 173/209 (82.775%)\n",
      "Train Epoch: 182   Avg_Loss: 0.35606   Acc: 532/625 (85.120%)\n",
      "Eval:  Avg_Loss: 0.60746   Acc: 170/209 (81.340%)\n",
      "Train Epoch: 183   Avg_Loss: 0.35499   Acc: 524/625 (83.840%)\n",
      "Eval:  Avg_Loss: 0.61403   Acc: 170/209 (81.340%)\n",
      "Train Epoch: 184   Avg_Loss: 0.35468   Acc: 532/625 (85.120%)\n",
      "Eval:  Avg_Loss: 0.59984   Acc: 171/209 (81.818%)\n",
      "Train Epoch: 185   Avg_Loss: 0.35638   Acc: 530/625 (84.800%)\n",
      "Eval:  Avg_Loss: 0.65437   Acc: 172/209 (82.297%)\n",
      "Train Epoch: 186   Avg_Loss: 0.35103   Acc: 531/625 (84.960%)\n",
      "Eval:  Avg_Loss: 0.64567   Acc: 168/209 (80.383%)\n",
      "Train Epoch: 187   Avg_Loss: 0.36452   Acc: 527/625 (84.320%)\n",
      "Eval:  Avg_Loss: 0.64006   Acc: 173/209 (82.775%)\n",
      "Train Epoch: 188   Avg_Loss: 0.35943   Acc: 532/625 (85.120%)\n",
      "Eval:  Avg_Loss: 0.61513   Acc: 168/209 (80.383%)\n",
      "Train Epoch: 189   Avg_Loss: 0.36313   Acc: 526/625 (84.160%)\n",
      "Eval:  Avg_Loss: 0.64500   Acc: 168/209 (80.383%)\n",
      "Train Epoch: 190   Avg_Loss: 0.35237   Acc: 532/625 (85.120%)\n",
      "Eval:  Avg_Loss: 0.63239   Acc: 171/209 (81.818%)\n",
      "Train Epoch: 191   Avg_Loss: 0.35721   Acc: 526/625 (84.160%)\n",
      "Eval:  Avg_Loss: 0.65140   Acc: 172/209 (82.297%)\n",
      "Train Epoch: 192   Avg_Loss: 0.35550   Acc: 529/625 (84.640%)\n",
      "Eval:  Avg_Loss: 0.63104   Acc: 169/209 (80.861%)\n",
      "Train Epoch: 193   Avg_Loss: 0.35371   Acc: 533/625 (85.280%)\n",
      "Eval:  Avg_Loss: 0.62307   Acc: 173/209 (82.775%)\n",
      "Train Epoch: 194   Avg_Loss: 0.35159   Acc: 531/625 (84.960%)\n",
      "Eval:  Avg_Loss: 0.61827   Acc: 169/209 (80.861%)\n",
      "Train Epoch: 195   Avg_Loss: 0.39451   Acc: 521/625 (83.360%)\n",
      "Eval:  Avg_Loss: 0.67327   Acc: 166/209 (79.426%)\n",
      "Train Epoch: 196   Avg_Loss: 0.38654   Acc: 524/625 (83.840%)\n",
      "Eval:  Avg_Loss: 0.70690   Acc: 168/209 (80.383%)\n",
      "Train Epoch: 197   Avg_Loss: 0.35953   Acc: 527/625 (84.320%)\n",
      "Eval:  Avg_Loss: 0.65103   Acc: 171/209 (81.818%)\n",
      "Train Epoch: 198   Avg_Loss: 0.35620   Acc: 525/625 (84.000%)\n",
      "Eval:  Avg_Loss: 0.64331   Acc: 171/209 (81.818%)\n",
      "Train Epoch: 199   Avg_Loss: 0.35209   Acc: 533/625 (85.280%)\n",
      "Eval:  Avg_Loss: 0.65693   Acc: 169/209 (80.861%)\n",
      "Train Epoch: 200   Avg_Loss: 0.35662   Acc: 529/625 (84.640%)\n",
      "Eval:  Avg_Loss: 0.66904   Acc: 170/209 (81.340%)\n",
      "\n",
      "\n",
      "\n",
      "Optimization ended.\n",
      "\n"
     ]
    }
   ],
   "source": [
    "# maximum number of epoch\n",
    "numEpochs = 200\n",
    "\n",
    "# Saving frequency\n",
    "checkpoint_freq = 10\n",
    "\n",
    "# Directory for data backup\n",
    "path = './'\n",
    "\n",
    "# Accumulators of average costs obtained per epoch\n",
    "train_losses = []\n",
    "val_losses = []\n",
    "\n",
    "# Performance accumulators per epoch\n",
    "train_accuracies = []\n",
    "val_accuracies = []\n",
    "\n",
    "# Model definition\n",
    "neural_net = NeuralNet()\n",
    "\n",
    "# Load the model on the chosen device\n",
    "neural_net = neural_net.to(device)\n",
    "\n",
    "# Optimizer definition\n",
    "optimizer = optim.Adam(neural_net.parameters(), lr=0.001) \n",
    "# optimizer = optim.SGD(neural_net.parameters(), lr=0.001) \n",
    "\n",
    "\n",
    "# Learning loop\n",
    "for epoch in range(1, numEpochs + 1):\n",
    "    \n",
    "    # train the model with the train dataset\n",
    "    train_loss, train_acc = train(epoch, neural_net, train_loader, optimizer, device)   \n",
    "    \n",
    "    # evaluate the model with the validation dataset\n",
    "    val_loss, val_acc = evaluate(neural_net, val_loader, device)       \n",
    "    \n",
    "    # Save the costs obtained\n",
    "    train_losses.append(train_loss)    \n",
    "    val_losses.append(val_loss)\n",
    "    \n",
    "    # Save the performances\n",
    "    train_accuracies.append(train_acc)    \n",
    "    val_accuracies.append(val_acc)\n",
    "    \n",
    "    # Checkpoint\n",
    "    if epoch % checkpoint_freq ==0:\n",
    "        save_model(epoch, neural_net, path)\n",
    "\n",
    "# Save the model at the end of the training\n",
    "save_model(numEpochs, neural_net, path)\n",
    "    \n",
    "print(\"\\n\\n\\nOptimization ended.\\n\")    \n"
   ]
  },
  {
   "cell_type": "markdown",
   "metadata": {
    "colab_type": "text",
    "id": "86OZRLrjavmd"
   },
   "source": [
    "## Interpreting the output of the neural network"
   ]
  },
  {
   "cell_type": "code",
   "execution_count": 19,
   "metadata": {
    "colab": {
     "base_uri": "https://localhost:8080/",
     "height": 191
    },
    "colab_type": "code",
    "id": "mklvQruYavme",
    "outputId": "193eeca0-db5e-477b-818d-7b5e6d883848"
   },
   "outputs": [
    {
     "name": "stdout",
     "output_type": "stream",
     "text": [
      "tensor([[0.9435, 0.0565],\n",
      "        [0.6777, 0.3223],\n",
      "        [0.5894, 0.4106],\n",
      "        [0.5691, 0.4309],\n",
      "        [0.8601, 0.1399],\n",
      "        [0.9518, 0.0482],\n",
      "        [0.8308, 0.1692],\n",
      "        [0.8338, 0.1662],\n",
      "        [0.0085, 0.9915],\n",
      "        [0.0123, 0.9877]], grad_fn=<SoftmaxBackward>)\n"
     ]
    }
   ],
   "source": [
    "# Activate the evaluation mode\n",
    "neural_net = neural_net.eval()\n",
    "\n",
    "# Select the first 10 data points of the validation set\n",
    "data, target = val_dataset[0:10]\n",
    "data = data.to(device)\n",
    "\n",
    "# Executing the neural network\n",
    "output = neural_net(data)   # equivalent to neural_net.forward(data)\n",
    "\n",
    "# Transform the output into a probability distribution with a softmax function\n",
    "output_proba = F.softmax(output, dim=1)\n",
    "\n",
    "# Print the probability\n",
    "print(output_proba)"
   ]
  },
  {
   "cell_type": "code",
   "execution_count": 20,
   "metadata": {
    "colab": {
     "base_uri": "https://localhost:8080/",
     "height": 87
    },
    "colab_type": "code",
    "id": "RvIEqKt0qjeT",
    "outputId": "f1c4e779-e9e1-4873-be1e-1366fb515836"
   },
   "outputs": [
    {
     "name": "stdout",
     "output_type": "stream",
     "text": [
      "Model predictions\n",
      "tensor([0, 0, 0, 0, 0, 0, 0, 0, 1, 1])\n",
      "Targets\n",
      "tensor([0, 0, 0, 0, 0, 0, 0, 1, 1, 1])\n"
     ]
    }
   ],
   "source": [
    "# For each example, retrieve the class with the highest probability.\n",
    "_, prediction = torch.max(output_proba, dim=1)\n",
    "\n",
    "print(\"Model predictions\")\n",
    "print(prediction)\n",
    "\n",
    "print(\"Targets\")\n",
    "print(target)"
   ]
  },
  {
   "cell_type": "markdown",
   "metadata": {
    "colab_type": "text",
    "id": "V11J3Jihavmy"
   },
   "source": [
    "## Visualizing of the learning curve"
   ]
  },
  {
   "cell_type": "markdown",
   "metadata": {
    "colab_type": "text",
    "id": "j9_9C_tXavmz"
   },
   "source": [
    "The visualization of the learning curve allows to detect possible problems that may have occurred during learning, for example, overfitting."
   ]
  },
  {
   "cell_type": "code",
   "execution_count": 21,
   "metadata": {
    "colab": {
     "base_uri": "https://localhost:8080/",
     "height": 283
    },
    "colab_type": "code",
    "id": "iNcbpl0tavm0",
    "outputId": "fa201aa2-5e25-4701-c0a9-33415773d68b"
   },
   "outputs": [
    {
     "data": {
      "image/png": "[encoded data removed]",
      "text/plain": [
       "<Figure size 432x288 with 1 Axes>"
      ]
     },
     "metadata": {
      "needs_background": "light"
     },
     "output_type": "display_data"
    }
   ],
   "source": [
    "import matplotlib.pyplot as plt\n",
    "%matplotlib inline\n",
    "\n",
    "x = list(range(len(train_losses)))\n",
    "\n",
    "ax = plt.subplot(111)\n",
    "plt.plot(x, train_losses, 'r', label=\"Train\")\n",
    "plt.plot(x, val_losses, 'g', label=\"Validation\")\n",
    "plt.xlabel('epoch')\n",
    "plt.ylabel('Cross-entropy loss')\n",
    "plt.grid()\n",
    "leg = plt.legend(loc='best', ncol=2, mode=\"expand\", shadow=False, fancybox=False)\n",
    "leg.get_frame().set_alpha(0.99)"
   ]
  },
  {
   "cell_type": "code",
   "execution_count": 22,
   "metadata": {
    "colab": {
     "base_uri": "https://localhost:8080/",
     "height": 283
    },
    "colab_type": "code",
    "id": "g-VGQ2pMavm4",
    "outputId": "267e91d4-48e3-413d-e2e2-0feac7335035"
   },
   "outputs": [
    {
     "data": {
      "image/png": "[encoded data removed]",
      "text/plain": [
       "<Figure size 432x288 with 1 Axes>"
      ]
     },
     "metadata": {
      "needs_background": "light"
     },
     "output_type": "display_data"
    }
   ],
   "source": [
    "x = list(range(len(train_accuracies)))\n",
    "\n",
    "ax = plt.subplot(111)\n",
    "plt.plot(x, train_accuracies, 'r', label=\"Train\")\n",
    "plt.plot(x, val_accuracies, 'g', label=\"Validation\")\n",
    "plt.xlabel('epoch')\n",
    "plt.ylabel('Accuracy')\n",
    "plt.grid()\n",
    "leg = plt.legend(loc='best', ncol=2, mode=\"expand\", shadow=False, fancybox=False)\n",
    "leg.get_frame().set_alpha(0.99)"
   ]
  },
  {
   "cell_type": "markdown",
   "metadata": {
    "colab_type": "text",
    "id": "8oktkpkuqjet"
   },
   "source": [
    "**Questions**:\n",
    "\n",
    "*   What do you observe in the previous graphs?\n",
    "*   At which epoch is it interesting to retrieve the model parameters for inference?\n",
    "\n"
   ]
  },
  {
   "cell_type": "markdown",
   "metadata": {
    "colab_type": "text",
    "id": "qwhRt39yzug-"
   },
   "source": [
    "**Possible answers:**\n",
    "\n",
    "*   The model is learning since the training loss is decreasing. However, we can observe by comparing the two loss curves (training and validation) that the model begins to overfit at epoch 25 w.r.t. cross-entropy. Nevertheless, the accuracy continues to increase until epoch 100.\n",
    "*   Around epoch 125 where the accuracy on the validation set is maximal. The performance metric is more important than the loss because it is the measure used to determine the best model (i.e., model selection). The training loss is only a surrogate required to generate the feedback for a particular model. Another model could use another loss function.\n"
   ]
  },
  {
   "cell_type": "markdown",
   "metadata": {
    "colab_type": "text",
    "id": "XK_eUsq3avm8"
   },
   "source": [
    "# How to evaluate a model on the test set?"
   ]
  },
  {
   "cell_type": "markdown",
   "metadata": {
    "colab_type": "text",
    "id": "4UREO5elavm8"
   },
   "source": [
    "We can finally evaluate our model on our test dataset."
   ]
  },
  {
   "cell_type": "code",
   "execution_count": 23,
   "metadata": {
    "colab": {
     "base_uri": "https://localhost:8080/",
     "height": 35
    },
    "colab_type": "code",
    "id": "pPWvDM-qavm8",
    "outputId": "b39e294a-47fb-401a-ffa4-5d2a407f0980"
   },
   "outputs": [
    {
     "name": "stdout",
     "output_type": "stream",
     "text": [
      "Eval:  Avg_Loss: 0.53942   Acc: 164/209 (78.469%)\n"
     ]
    }
   ],
   "source": [
    "test_loss, test_acc = evaluate(neural_net, test_loader, device)"
   ]
  },
  {
   "cell_type": "markdown",
   "metadata": {
    "colab_type": "text",
    "id": "EvP_-KUwqjez"
   },
   "source": [
    "**Questions**:\n",
    "\n",
    "a) Compare validation and test metrics. <br/>"
   ]
  },
  {
   "cell_type": "markdown",
   "metadata": {
    "colab_type": "text",
    "id": "Ov4CKUFh5tun"
   },
   "source": [
    "\n",
    "**Possible answer**: we observe a discrepancy between the two metrics (validation: 81.8%, test: 78.5%). We explain this difference by the small number of examples used in both sets (~ 209 examples). It means that our current estimates can have a variance of few percents. To assess it more precisely, we could use k-fold cross-validation.\n"
   ]
  }
 ],
 "metadata": {
  "accelerator": "GPU",
  "colab": {
   "collapsed_sections": [],
   "name": "tutorial_mlp_tags.ipynb",
   "provenance": [],
   "toc_visible": true,
   "version": "0.3.2"
  },
  "kernelspec": {
   "display_name": "Python 3",
   "language": "python",
   "name": "python3"
  },
  "language_info": {
   "codemirror_mode": {
    "name": "ipython",
    "version": 3
   },
   "file_extension": ".py",
   "mimetype": "text/x-python",
   "name": "python",
   "nbconvert_exporter": "python",
   "pygments_lexer": "ipython3",
   "version": "3.7.3"
  }
 },
 "nbformat": 4,
 "nbformat_minor": 2
}
